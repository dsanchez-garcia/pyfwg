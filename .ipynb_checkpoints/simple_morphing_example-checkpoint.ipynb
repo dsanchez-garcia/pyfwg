{
 "cells": [
  {
   "cell_type": "markdown",
   "metadata": {},
   "source": [
    "# Using `pyfwg` for Direct Morphing with `morph_epw`\n",
    "\n",
    "This notebook demonstrates the simplest and most direct way to use the `pyfwg` library: the `morph_epw` function.\n",
    "\n",
    "This function is designed as a one-shot tool that provides full access to all of the FutureWeatherGenerator's parameters without requiring the user to manage the multi-step `MorphingWorkflow` class. It handles parameter validation, temporary file management, and final file placement in a single call."
   ]
  },
  {
   "cell_type": "markdown",
   "metadata": {},
   "source": [
    "## Understanding the `morph_epw` Parameters\n",
    "\n",
    "The `morph_epw` function is powerful because it exposes all of the underlying tool's options. Here is a complete reference for all its arguments.\n",
    "\n",
    "### Core Parameters\n",
    "\n",
    "*   `epw_paths` (`Union[str, List[str]]`): **Required.** The path to a single EPW file (as a string) or a list of paths to multiple EPW files.\n",
    "*   `fwg_jar_path` (`str`): **Required.** The absolute or relative path to the `FutureWeatherGenerator_v3.0.0.jar` file.\n",
    "\n",
    "### Workflow Control Parameters\n",
    "\n",
    "*   `output_dir` (`str`, default: `'./morphed_epws'`): The directory where the final morphed `.epw` and `.stat` files will be saved.\n",
    "*   `delete_temp_files` (`bool`, default: `True`): If `True`, the temporary folders are deleted after processing. Set to `False` for debugging.\n",
    "*   `temp_base_dir` (`str`, default: `'./morphing_temp_results'`): The base directory where temporary folders will be created.\n",
    "*   `fwg_show_tool_output` (`bool`, default: `False`): If `True`, prints the FWG tool's console output in real-time. Highly recommended for monitoring progress.\n",
    "*   `fwg_params` (`Optional[Dict]`, default: `None`): A dictionary for providing a base set of FWG parameters. Any explicit `fwg_` argument will override the values in this dictionary.\n",
    "\n",
    "### FutureWeatherGenerator Tool Parameters\n",
    "\n",
    "These arguments correspond directly to the options in the FWG command-line tool.\n",
    "\n",
    "*   `fwg_gcms` (`Optional[List[str]]`, default: `None`): A list of GCMs to use. If `None`, the full default list is used to create an ensemble.\n",
    "*   `fwg_create_ensemble` (`bool`, default: `True`): If `True`, creates an ensemble from the selected GCMs (Argument: `%ensemble%`).\n",
    "*   `fwg_winter_sd_shift` (`float`, default: `0.0`): Temperature's standard deviation shift for the winter peak month. Range: -2.0 to 2.0.\n",
    "*   `fwg_summer_sd_shift` (`float`, default: `0.0`): Temperature's standard deviation shift for the summer peak month. Range: -2.0 to 2.0.\n",
    "*   `fwg_month_transition_hours` (`int`, default: `72`): Number of hours to smooth the transition between months. Range: 0 to 336.\n",
    "*   `fwg_use_multithreading` (`bool`, default: `True`): If `True`, performs computations in multithread (Argument: `%do_multithred_computation%`).\n",
    "*   `fwg_interpolation_method_id` (`int`, default: `0`): Selects the grid method. Options: `0` (inversed distance weighting), `1` (average of four nearest points), `2` (nearest point).\n",
    "*   `fwg_limit_variables` (`bool`, default: `True`): If `True`, bounds each generated variable to its physical limits (Argument: `%do_limit_variables%`).\n",
    "*   `fwg_solar_hour_adjustment` (`int`, default: `1`): Option for solar hour adjustment. Options: `0` (None), `1` (ByMonth), `2` (ByDay).\n",
    "*   `fwg_diffuse_irradiation_model` (`int`, default: `1`): Option for diffuse solar irradiation model. Options: `0` (Ridley), `1` (Engerer), `2` (Paulescu).\n",
    "*   `fwg_add_uhi` (`bool`, default: `True`): Option to pre-process the Urban Heat Island (UHI) effect.\n",
    "*   `fwg_epw_original_lcz` (`int`, default: `14`): The Local Climate Zone (LCZ) of the original EPW. Range: 1 to 17.\n",
    "*   `fwg_target_uhi_lcz` (`int`, default: `1`): The target LCZ of the generated EPW. Range: 1 to 17."
   ]
  },
  {
   "cell_type": "markdown",
   "metadata": {},
   "source": [
    "## Step 1: Imports and Setup\n",
    "\n",
    "First, we'll import the necessary function and set up our file paths. \n",
    "\n",
    "**Important:** You must change the `jar_path` variable to the correct location of the `FutureWeatherGenerator_v3.0.0.jar` file on your system."
   ]
  },
  {
   "cell_type": "code",
   "execution_count": null,
   "metadata": {},
   "outputs": [],
   "source": [
    "import os\n",
    "from pyfwg import morph_epw\n",
    "\n",
    "# --- Create a dummy EPW file for this example to run ---\n",
    "if not os.path.exists('epws'):\n",
    "    os.makedirs('epws')\n",
    "epw_file = 'epws/MAD_ICU_type-2.epw'\n",
    "with open(epw_file, 'w') as f:\n",
    "    f.write(\"This is a dummy EPW file for the example.\")\n",
    "    \n",
    "# --- Configuration ---\n",
    "# !!! IMPORTANT: You MUST change this path to the correct location on your PC !!!\n",
    "jar_path = r\"D:\\path\\to\\your\\FutureWeatherGenerator_v3.0.0.jar\"\n",
    "\n",
    "# Check if the JAR file exists before running\n",
    "if not os.path.exists(jar_path):\n",
    "    print(f\"ERROR: The JAR file was not found at '{jar_path}'. Please update the path.\")"
   ]
  },
  {
   "cell_type": "markdown",
   "metadata": {},
   "source": [
    "## Step 2: Run the Morphing Process\n",
    "\n",
    "Now, we can call the `morph_epw` function. We will override a few of the default parameters to demonstrate how to customize the process."
   ]
  },
  {
   "cell_type": "code",
   "execution_count": null,
   "metadata": {},
   "outputs": [],
   "source": [
    "# The validation of parameters is executed automatically inside the function.\n",
    "try:\n",
    "    created_files_custom = morph_epw(\n",
    "        epw_paths=epw_file,\n",
    "        fwg_jar_path=jar_path,\n",
    "        output_dir='./custom_output',\n",
    "        fwg_show_tool_output=True,      # See the tool's progress in real-time\n",
    "        fwg_gcms=['CanESM5'],           # Use only one specific GCM\n",
    "        fwg_interpolation_method_id=2 # Use the \"nearest point\" method\n",
    "    )\n",
    "\n",
    "    print(\"\\nSuccessfully created files:\")\n",
    "    for f in created_files_custom:\n",
    "        print(f)\n",
    "except FileNotFoundError:\n",
    "    print(\"Execution skipped because the JAR file was not found.\")\n",
    "except ValueError as e:\n",
    "    print(f\"\\nEXECUTION FAILED: {e}\")"
   ]
  },
  {
   "cell_type": "markdown",
   "metadata": {},
   "source": [
    "## Expected Output\n",
    "\n",
    "When you run the code above, you should see:\n",
    "1. A detailed printout of the command being executed for your EPW file.\n",
    "2. The real-time console output from the FutureWeatherGenerator tool (since `fwg_show_tool_output=True`).\n",
    "3. A final message listing all the `.epw` and `.stat` files that were successfully created and moved to the `./custom_output` directory."
   ]
  }
 ],
 "metadata": {
  "kernelspec": {
   "display_name": "Python 3",
   "language": "python",
   "name": "python3"
  },
  "language_info": {
   "codemirror_mode": {
    "name": "ipython",
    "version": 3
   },
   "file_extension": ".py",
   "mimetype": "text/x-python",
   "name": "python",
   "nbconvert_exporter": "python",
   "pygments_lexer": "ipython3",
   "version": "3.9.13"
  }
 },
 "nbformat": 4,
 "nbformat_minor": 4
}
