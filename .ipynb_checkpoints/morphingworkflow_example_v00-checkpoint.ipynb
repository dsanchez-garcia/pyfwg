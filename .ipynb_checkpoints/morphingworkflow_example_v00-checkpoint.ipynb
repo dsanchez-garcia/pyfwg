{
 "cells": [
  {
   "cell_type": "markdown",
   "metadata": {},
   "source": [
    "# Advanced Usage: The `MorphingWorkflow` Class\n",
    "\n",
    "This notebook demonstrates the advanced, step-by-step approach to morphing EPW files using the `MorphingWorkflow` class.\n",
    "\n",
    "While the `morph_epw` function is great for direct, one-shot tasks, the `MorphingWorkflow` class is designed for complex projects where you need full control over **filename parsing, custom renaming, and process validation**. It enforces a safe, four-step process that allows you to review and confirm each stage before executing the time-consuming morphing computation."
   ]
  },
  {
   "cell_type": "markdown",
   "metadata": {},
   "source": [
    "## The Four-Step Workflow\n",
    "\n",
    "The class is designed to be used as a state machine, guiding you through a logical sequence:\n",
    "\n",
    "1.  **`map_categories()`**: Analyze the input filenames to extract meaningful data (like city, building type, etc.).\n",
    "2.  **`preview_rename_plan()`**: Use the extracted data to generate a \"dry run\" plan of how the final files will be named and organized.\n",
    "3.  **`set_morphing_config()`**: Define and validate all parameters for the FutureWeatherGenerator tool and the workflow itself.\n",
    "4.  **`execute_morphing()`**: Run the final computation, confident that your plan and configuration are correct."
   ]
  },
  {
   "cell_type": "markdown",
   "metadata": {},
   "source": [
    "## Understanding the Method Parameters\n",
    "\n",
    "### Step 1: `map_categories` Parameters\n",
    "\n",
    "This method is for interpreting your source filenames.\n",
    "\n",
    "*   `epw_files` (`List[str]`): **Required.** A list of paths to the EPW files you want to process.\n",
    "*   `input_filename_pattern` (`Optional[str]`, default: `None`): A Python regex string with **named capture groups** (e.g., `(?P<city>...)`) to extract structured data from filenames.\n",
    "*   `keyword_mapping` (`Optional[Dict]`, default: `None`): A dictionary of rules used for two purposes:\n",
    "    1.  **Normalization (with pattern):** Translates the raw values extracted by the pattern into clean, final values.\n",
    "    2.  **Keyword Search (without pattern):** Searches the entire filename for keywords to assign categories. This is ideal for irregularly named files.\n",
    "    *The innermost value can be a single string or a list of strings (e.g., `'seville': ['sevilla', 'svq']`).*\n",
    "\n",
    "### Step 2: `preview_rename_plan` Parameters\n",
    "\n",
    "This method defines the structure of your output.\n",
    "\n",
    "*   `final_output_dir` (`str`): **Required.** The path to the directory where your final, renamed files will be saved.\n",
    "*   `output_filename_pattern` (`str`): **Required.** A template string for the final filenames. It uses placeholders in braces `{}` that **must match the category names** you defined in `map_categories`.\n",
    "    *   **CRITICAL:** This pattern **MUST** contain the placeholders `{ssp}` and `{year}` to prevent generated files from being overwritten.\n",
    "    *   *Example:* `'{city}_{uhi_type}_{ssp}_{year}'`\n",
    "*   `scenario_mapping` (`Optional[Dict]`, default: `None`): A dictionary to translate raw scenario names (e.g., `'ssp126'`) into a descriptive format (e.g., `'SSP1-2.6'`) for the `{ssp}` placeholder.\n",
    "\n",
    "### Step 3: `set_morphing_config` Parameters\n",
    "\n",
    "This method configures the execution itself.\n",
    "\n",
    "*   `fwg_jar_path` (`str`): **Required.** The path to the `FutureWeatherGenerator_v3.0.0.jar` file.\n",
    "*   `run_incomplete_files` (`bool`, default: `False`): If `True`, the workflow will also process files that were only partially categorized.\n",
    "*   `delete_temp_files` (`bool`, default: `True`): If `True`, temporary folders are deleted after processing.\n",
    "\n",
    "> **Note for users of `morph_epw`:** The `fwg_show_tool_output` argument and all other `fwg_` arguments (e.g., `fwg_gcms`, `fwg_interpolation_method_id`, etc.) are identical to the ones in the `morph_epw` function. They allow you to control the FutureWeatherGenerator tool with the same level of detail.\n",
    "\n",
    "### Step 4: `execute_morphing` Parameters\n",
    "\n",
    "This method takes **no arguments**. It is the final \"Go\" button that runs the process using the configuration you have already set."
   ]
  },
  {
   "cell_type": "markdown",
   "metadata": {},
   "source": [
    "## Full Example: Pattern Extraction with Normalization\n",
    "\n",
    "In this example, we will process EPW files that have a consistent naming pattern. We will use a regex to extract the `city` and `uhi_type`, and then use a mapping dictionary to normalize the extracted values (e.g., convert `SVQ` to `seville`)."
   ]
  },
  {
   "cell_type": "code",
   "execution_count": null,
   "metadata": {},
   "outputs": [],
   "source": [
    "import os\n",
    "from pyfwg import MorphingWorkflow\n",
    "\n",
    "# --- Create dummy EPW files for this example to run ---\n",
    "epw_dir = 'epws/w_pattern_adv'\n",
    "if not os.path.exists(epw_dir):\n",
    "    os.makedirs(epw_dir)\n",
    "epw_files_to_create = ['sevilla_uhi-tipo-1.epw', 'SVQ_uhi-tipo-2.epw']\n",
    "for fname in epw_files_to_create:\n",
    "    with open(os.path.join(epw_dir, fname), 'w') as f:\n",
    "        f.write(\"This is a dummy EPW file for the example.\")\n",
    "\n",
    "# --- Configuration ---\n",
    "epw_files = [os.path.join(epw_dir, f) for f in epw_files_to_create]\n",
    "\n",
    "# !!! IMPORTANT: You MUST change this path to the correct location on your PC !!!\n",
    "jar_path = r\"D:\\path\\to\\your\\FutureWeatherGenerator_v3.0.0.jar\"\n",
    "\n",
    "# Check if the JAR file exists before running\n",
    "if not os.path.exists(jar_path):\n",
    "    print(f\"ERROR: The JAR file was not found at '{jar_path}'. Please update the path.\")"
   ]
  },
  {
   "cell_type": "code",
   "execution_count": null,
   "metadata": {},
   "outputs": [],
   "source": [
    "# --- STEP 0: Instantiate the workflow ---\n",
    "workflow = MorphingWorkflow()\n",
    "\n",
    "# --- STEP 1: Map categories from source filenames ---\n",
    "print(\"--- Running Step 1: map_categories ---\")\n",
    "workflow.map_categories(\n",
    "    epw_files=epw_files,\n",
    "    # This pattern extracts the raw city ('SVQ') and uhi_type ('uhi-tipo-2')\n",
    "    input_filename_pattern=r'(?P<city>.*?)_(?P<uhi_type>.*)',\n",
    "    # This dictionary then normalizes the raw values\n",
    "    keyword_mapping={\n",
    "        'city': {'seville': ['sevilla', 'svq']},\n",
    "        'uhi_type': {\n",
    "            'Type1': 'uhi-tipo-1',\n",
    "            'Type2': 'uhi-tipo-2'\n",
    "        }\n",
    "    }\n",
    ")"
   ]
  },
  {
   "cell_type": "code",
   "execution_count": null,
   "metadata": {},
   "outputs": [],
   "source": [
    "# --- STEP 2: Define the output and preview the plan ---\n",
    "print(\"\\n--- Running Step 2: preview_rename_plan ---\")\n",
    "workflow.preview_rename_plan(\n",
    "    final_output_dir='./final_results_workflow',\n",
    "    # The placeholders {city} and {uhi_type} match the pattern names\n",
    "    output_filename_pattern='{city}_{uhi_type}_{ssp}_{year}',\n",
    "    # The {ssp} placeholder will be populated from this mapping\n",
    "    scenario_mapping={'ssp245': 'SSP2-4.5', 'ssp585': 'SSP5-8.5'}\n",
    ")"
   ]
  },
  {
   "cell_type": "code",
   "execution_count": null,
   "metadata": {},
   "outputs": [],
   "source": [
    "# --- STEP 3: Set and validate the execution configuration ---\n",
    "print(\"\\n--- Running Step 3: set_morphing_config ---\")\n",
    "workflow.set_morphing_config(\n",
    "    fwg_jar_path=jar_path,\n",
    "    fwg_show_tool_output=True,\n",
    "    fwg_gcms=['BCC_CSM2_MR'] # Use just one GCM for a quick test\n",
    ")"
   ]
  },
  {
   "cell_type": "code",
   "execution_count": null,
   "metadata": {},
   "outputs": [],
   "source": [
    "# --- STEP 4: Execute the morphing process ---\n",
    "print(\"\\n--- Running Step 4: execute_morphing ---\")\n",
    "\n",
    "# This is only called after you are satisfied with the preview and config.\n",
    "# We check the is_config_valid flag first as a safeguard.\n",
    "\n",
    "# Uncomment the following lines to run the actual morphing:\n",
    "# if workflow.is_config_valid:\n",
    "#     workflow.execute_morphing()\n",
    "# else:\n",
    "#     print(\"\\nExecution skipped because the configuration is invalid. Please check the warnings above.\")\n",
    "\n",
    "print(\"Script finished. Uncomment the final lines to execute the morphing.\")"
   ]
  }
 ],
 "metadata": {
  "kernelspec": {
   "display_name": "Python 3",
   "language": "python",
   "name": "python3"
  },
  "language_info": {
   "codemirror_mode": {
    "name": "ipython",
    "version": 3
   },
   "file_extension": ".py",
   "mimetype": "text/x-python",
   "name": "python",
   "nbconvert_exporter": "python",
   "pygments_lexer": "ipython3",
   "version": "3.9.13"
  }
 },
 "nbformat": 4,
 "nbformat_minor": 4
}