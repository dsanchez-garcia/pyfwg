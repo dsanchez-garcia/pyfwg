{
 "cells": [
  {
   "cell_type": "markdown",
   "metadata": {},
   "source": [
    "# Using `pyfwg` for Direct Morphing with `morph_epw`\n",
    "\n",
    "This notebook demonstrates the simplest and most direct way to use the `pyfwg` library: the `morph_epw` function.\n",
    "\n",
    "This function is designed as a one-shot tool that provides full access to all of the FutureWeatherGenerator's parameters without requiring the user to manage the multi-step `MorphingWorkflow` class. It handles parameter validation, temporary file management, and final file placement in a single call."
   ]
  },
  {
   "cell_type": "markdown",
   "metadata": {},
   "source": [
    "## Understanding the `morph_epw` Parameters\n",
    "\n",
    "The `morph_epw` function is powerful because it exposes all of the underlying tool's options. Here is a complete reference for all its arguments.\n",
    "\n",
    "### Core Parameters\n",
    "\n",
    "*   `epw_paths` (`Union[str, List[str]]`): **Required.** The path to a single EPW file (as a string) or a list of paths to multiple EPW files.\n",
    "*   `fwg_jar_path` (`str`): **Required.** The absolute or relative path to the `FutureWeatherGenerator_v3.0.0.jar` file.\n",
    "\n",
    "### Workflow Control Parameters\n",
    "\n",
    "*   `output_dir` (`str`, default: `'./morphed_epws'`): The directory where the final morphed `.epw` and `.stat` files will be saved.\n",
    "*   `delete_temp_files` (`bool`, default: `True`): If `True`, the temporary folders are deleted after processing. Set to `False` for debugging.\n",
    "*   `temp_base_dir` (`str`, default: `'./morphing_temp_results'`): The base directory where temporary folders will be created.\n",
    "*   `fwg_show_tool_output` (`bool`, default: `False`): If `True`, prints the FWG tool's console output in real-time. Highly recommended for monitoring progress.\n",
    "*   `fwg_params` (`Optional[Dict]`, default: `None`): A dictionary for providing a base set of FWG parameters. Any explicit `fwg_` argument will override the values in this dictionary.\n",
    "\n",
    "### FutureWeatherGenerator Tool Parameters\n",
    "\n",
    "These arguments correspond directly to the options in the FWG command-line tool.\n",
    "\n",
    "*   `fwg_gcms` (`Optional[List[str]]`, default: `None`): A list of GCMs to use. If `None`, the full default list is used to create an ensemble.\n",
    "*   `fwg_create_ensemble` (`bool`, default: `True`): If `True`, creates an ensemble from the selected GCMs (Argument: `%ensemble%`).\n",
    "*   `fwg_winter_sd_shift` (`float`, default: `0.0`): Temperature's standard deviation shift for the winter peak month. Range: -2.0 to 2.0.\n",
    "*   `fwg_summer_sd_shift` (`float`, default: `0.0`): Temperature's standard deviation shift for the summer peak month. Range: -2.0 to 2.0.\n",
    "*   `fwg_month_transition_hours` (`int`, default: `72`): Number of hours to smooth the transition between months. Range: 0 to 336.\n",
    "*   `fwg_use_multithreading` (`bool`, default: `True`): If `True`, performs computations in multithread (Argument: `%do_multithred_computation%`).\n",
    "*   `fwg_interpolation_method_id` (`int`, default: `0`): Selects the grid method. Options: `0` (inversed distance weighting), `1` (average of four nearest points), `2` (nearest point).\n",
    "*   `fwg_limit_variables` (`bool`, default: `True`): If `True`, bounds each generated variable to its physical limits (Argument: `%do_limit_variables%`).\n",
    "*   `fwg_solar_hour_adjustment` (`int`, default: `1`): Option for solar hour adjustment. Options: `0` (None), `1` (ByMonth), `2` (ByDay).\n",
    "*   `fwg_diffuse_irradiation_model` (`int`, default: `1`): Option for diffuse solar irradiation model. Options: `0` (Ridley), `1` (Engerer), `2` (Paulescu).\n",
    "*   `fwg_add_uhi` (`bool`, default: `True`): Option to pre-process the Urban Heat Island (UHI) effect.\n",
    "*   `fwg_epw_original_lcz` (`int`, default: `14`): The Local Climate Zone (LCZ) of the original EPW. Range: 1 to 17.\n",
    "*   `fwg_target_uhi_lcz` (`int`, default: `1`): The target LCZ of the generated EPW. Range: 1 to 17."
   ]
  },
  {
   "cell_type": "markdown",
   "metadata": {},
   "source": [
    "## Step 1: Imports and Setup\n",
    "\n",
    "First, we'll import the necessary function and set up our file paths. \n",
    "\n",
    "**Important:** You must change the `jar_path` variable to the correct location of the `FutureWeatherGenerator_v3.0.0.jar` file on your system. You must also ensure that the `epw_file` path is correct relative to where you are running this notebook."
   ]
  },
  {
   "cell_type": "code",
   "execution_count": 1,
   "metadata": {},
   "outputs": [],
   "source": [
    "import os\n",
    "from pyfwg import morph_epw\n",
    "\n",
    "# --- Configuration ---\n",
    "# Define the path to the EPW file to be processed.\n",
    "epw_file = 'epws/w_pattern/MAD_uhi-type-2.epw'\n",
    "\n",
    "# !!! IMPORTANT: You MUST change this path to the correct location on your PC !!!\n",
    "jar_path = r\"D:\\OneDrive - Universidad de Cádiz (uca.es)\\Programas\\FutureWeatherGenerator_v3.0.0.jar\""
   ]
  },
  {
   "cell_type": "markdown",
   "metadata": {},
   "source": [
    "## Step 2: Run the Morphing Process\n",
    "\n",
    "Now, we can call the `morph_epw` function. We will override a few of the default parameters to demonstrate how to customize the process."
   ]
  },
  {
   "cell_type": "code",
   "execution_count": 2,
   "metadata": {},
   "outputs": [
    {
     "name": "stderr",
     "output_type": "stream",
     "text": [
      "2025-08-12 09:24:21 - INFO - --- Starting Direct Morphing Process ---\n",
      "2025-08-12 09:24:21 - INFO - --- Step 3: Setting and Validating Morphing Configuration ---\n",
      "2025-08-12 09:24:21 - INFO - Copied input file to temporary directory: ./morphing_temp_results\\MAD_uhi-type-2\\MAD_uhi-type-2.epw\n"
     ]
    },
    {
     "name": "stdout",
     "output_type": "stream",
     "text": [
      "\n",
      "============================================================\n",
      "          MORPHING CONFIGURATION REVIEW\n",
      "============================================================\n",
      "  - FWG JAR Path: D:\\OneDrive - Universidad de Cádiz (uca.es)\\Programas\\FutureWeatherGenerator_v3.0.0.jar\n",
      "  - Run Incomplete Files: False\n",
      "  - Delete Temporary Files: True\n",
      "  - Show Tool Output: True\n",
      "\n",
      "  - EPWs to be Morphed (0 files):\n",
      "\n",
      "  --- Final Formatted FWG Parameters ---\n",
      "    - gcms: CanESM5\n",
      "    - ensemble: 1\n",
      "    - sd_shift: 0.0:0.0\n",
      "    - month_transition_hours: 72\n",
      "    - do_multithred_computation: true\n",
      "    - interpolation_method_id: 2\n",
      "    - do_limit_variables: true\n",
      "    - solar_hour_adjustment_option: 1\n",
      "    - diffuse_irradiation_model_option: 1\n",
      "    - uhi_combined: 1:14:1\n",
      "============================================================\n",
      "Configuration set. Call execute_morphing() to start the process.\n",
      "\n",
      "-------------------- Executing FWG for MAD_uhi-type-2.epw --------------------\n",
      "  Full Command: java -cp D:\\OneDrive - Universidad de Cádiz (uca.es)\\Programas\\FutureWeatherGenerator_v3.0.0.jar futureweathergenerator.Morph D:\\OneDrive - Universidad de Cádiz (uca.es)\\Python\\pyfwg\\morphing_temp_results\\MAD_uhi-type-2\\MAD_uhi-type-2.epw CanESM5 1 0.0:0.0 72 D:\\OneDrive - Universidad de Cádiz (uca.es)\\Python\\pyfwg\\morphing_temp_results\\MAD_uhi-type-2\\ true 2 true 1 1 1:14:1\n",
      "  --- FWG Real-time Output ---\n",
      "  --- End of FWG Output ---\n"
     ]
    },
    {
     "ename": "PermissionError",
     "evalue": "[WinError 5] Acceso denegado: './morphing_temp_results\\\\MAD_uhi-type-2'",
     "output_type": "error",
     "traceback": [
      "\u001b[1;31m---------------------------------------------------------------------------\u001b[0m",
      "\u001b[1;31mPermissionError\u001b[0m                           Traceback (most recent call last)",
      "Cell \u001b[1;32mIn[2], line 3\u001b[0m\n\u001b[0;32m      1\u001b[0m \u001b[38;5;66;03m# The validation of parameters is executed automatically inside the function.\u001b[39;00m\n\u001b[0;32m      2\u001b[0m \u001b[38;5;66;03m# We will only run this if both the JAR and EPW files were found.\u001b[39;00m\n\u001b[1;32m----> 3\u001b[0m created_files_custom \u001b[38;5;241m=\u001b[39m \u001b[43mmorph_epw\u001b[49m\u001b[43m(\u001b[49m\n\u001b[0;32m      4\u001b[0m \u001b[43m    \u001b[49m\u001b[43mepw_paths\u001b[49m\u001b[38;5;241;43m=\u001b[39;49m\u001b[43mepw_file\u001b[49m\u001b[43m,\u001b[49m\n\u001b[0;32m      5\u001b[0m \u001b[43m    \u001b[49m\u001b[43mfwg_jar_path\u001b[49m\u001b[38;5;241;43m=\u001b[39;49m\u001b[43mjar_path\u001b[49m\u001b[43m,\u001b[49m\n\u001b[0;32m      6\u001b[0m \u001b[43m    \u001b[49m\u001b[43moutput_dir\u001b[49m\u001b[38;5;241;43m=\u001b[39;49m\u001b[38;5;124;43m'\u001b[39;49m\u001b[38;5;124;43m./custom_output\u001b[39;49m\u001b[38;5;124;43m'\u001b[39;49m\u001b[43m,\u001b[49m\n\u001b[0;32m      7\u001b[0m \u001b[43m    \u001b[49m\u001b[43mfwg_show_tool_output\u001b[49m\u001b[38;5;241;43m=\u001b[39;49m\u001b[38;5;28;43;01mTrue\u001b[39;49;00m\u001b[43m,\u001b[49m\u001b[43m      \u001b[49m\u001b[38;5;66;43;03m# See the tool's progress in real-time\u001b[39;49;00m\n\u001b[0;32m      8\u001b[0m \u001b[43m    \u001b[49m\u001b[43mfwg_gcms\u001b[49m\u001b[38;5;241;43m=\u001b[39;49m\u001b[43m[\u001b[49m\u001b[38;5;124;43m'\u001b[39;49m\u001b[38;5;124;43mCanESM5\u001b[39;49m\u001b[38;5;124;43m'\u001b[39;49m\u001b[43m]\u001b[49m\u001b[43m,\u001b[49m\u001b[43m           \u001b[49m\u001b[38;5;66;43;03m# Use only one specific GCM\u001b[39;49;00m\n\u001b[0;32m      9\u001b[0m \u001b[43m    \u001b[49m\u001b[43mfwg_interpolation_method_id\u001b[49m\u001b[38;5;241;43m=\u001b[39;49m\u001b[38;5;241;43m2\u001b[39;49m\u001b[43m \u001b[49m\u001b[38;5;66;43;03m# Use the \"nearest point\" method\u001b[39;49;00m\n\u001b[0;32m     10\u001b[0m \u001b[43m)\u001b[49m\n\u001b[0;32m     12\u001b[0m \u001b[38;5;28mprint\u001b[39m(\u001b[38;5;124m\"\u001b[39m\u001b[38;5;130;01m\\n\u001b[39;00m\u001b[38;5;124mSuccessfully created files:\u001b[39m\u001b[38;5;124m\"\u001b[39m)\n\u001b[0;32m     13\u001b[0m \u001b[38;5;28;01mfor\u001b[39;00m f \u001b[38;5;129;01min\u001b[39;00m created_files_custom:\n",
      "File \u001b[1;32mD:\\OneDrive - Universidad de Cádiz (uca.es)\\Python\\pyfwg\\pyfwg\\api.py:117\u001b[0m, in \u001b[0;36mmorph_epw\u001b[1;34m(epw_paths, fwg_jar_path, output_dir, delete_temp_files, temp_base_dir, fwg_show_tool_output, fwg_params, fwg_gcms, fwg_create_ensemble, fwg_winter_sd_shift, fwg_summer_sd_shift, fwg_month_transition_hours, fwg_use_multithreading, fwg_interpolation_method_id, fwg_limit_variables, fwg_solar_hour_adjustment, fwg_diffuse_irradiation_model, fwg_add_uhi, fwg_epw_original_lcz, fwg_target_uhi_lcz)\u001b[0m\n\u001b[0;32m    115\u001b[0m         \u001b[38;5;66;03m# Limpia el directorio temporal si se solicita\u001b[39;00m\n\u001b[0;32m    116\u001b[0m         \u001b[38;5;28;01mif\u001b[39;00m workflow\u001b[38;5;241m.\u001b[39minputs[\u001b[38;5;124m'\u001b[39m\u001b[38;5;124mdelete_temp_files\u001b[39m\u001b[38;5;124m'\u001b[39m]:\n\u001b[1;32m--> 117\u001b[0m             \u001b[43mshutil\u001b[49m\u001b[38;5;241;43m.\u001b[39;49m\u001b[43mrmtree\u001b[49m\u001b[43m(\u001b[49m\u001b[43mtemp_epw_output_dir\u001b[49m\u001b[43m)\u001b[49m\n\u001b[0;32m    119\u001b[0m logging\u001b[38;5;241m.\u001b[39minfo(\u001b[38;5;124mf\u001b[39m\u001b[38;5;124m\"\u001b[39m\u001b[38;5;124mDirect morphing complete. \u001b[39m\u001b[38;5;132;01m{\u001b[39;00m\u001b[38;5;28mlen\u001b[39m(final_file_paths)\u001b[38;5;132;01m}\u001b[39;00m\u001b[38;5;124m files created in \u001b[39m\u001b[38;5;132;01m{\u001b[39;00mos\u001b[38;5;241m.\u001b[39mpath\u001b[38;5;241m.\u001b[39mabspath(output_dir)\u001b[38;5;132;01m}\u001b[39;00m\u001b[38;5;124m\"\u001b[39m)\n\u001b[0;32m    120\u001b[0m \u001b[38;5;28;01mreturn\u001b[39;00m final_file_paths\n",
      "File \u001b[1;32mc:\\users\\danie\\appdata\\local\\programs\\python\\python39\\lib\\shutil.py:740\u001b[0m, in \u001b[0;36mrmtree\u001b[1;34m(path, ignore_errors, onerror)\u001b[0m\n\u001b[0;32m    738\u001b[0m     \u001b[38;5;66;03m# can't continue even if onerror hook returns\u001b[39;00m\n\u001b[0;32m    739\u001b[0m     \u001b[38;5;28;01mreturn\u001b[39;00m\n\u001b[1;32m--> 740\u001b[0m \u001b[38;5;28;01mreturn\u001b[39;00m \u001b[43m_rmtree_unsafe\u001b[49m\u001b[43m(\u001b[49m\u001b[43mpath\u001b[49m\u001b[43m,\u001b[49m\u001b[43m \u001b[49m\u001b[43monerror\u001b[49m\u001b[43m)\u001b[49m\n",
      "File \u001b[1;32mc:\\users\\danie\\appdata\\local\\programs\\python\\python39\\lib\\shutil.py:622\u001b[0m, in \u001b[0;36m_rmtree_unsafe\u001b[1;34m(path, onerror)\u001b[0m\n\u001b[0;32m    620\u001b[0m     os\u001b[38;5;241m.\u001b[39mrmdir(path)\n\u001b[0;32m    621\u001b[0m \u001b[38;5;28;01mexcept\u001b[39;00m \u001b[38;5;167;01mOSError\u001b[39;00m:\n\u001b[1;32m--> 622\u001b[0m     \u001b[43monerror\u001b[49m\u001b[43m(\u001b[49m\u001b[43mos\u001b[49m\u001b[38;5;241;43m.\u001b[39;49m\u001b[43mrmdir\u001b[49m\u001b[43m,\u001b[49m\u001b[43m \u001b[49m\u001b[43mpath\u001b[49m\u001b[43m,\u001b[49m\u001b[43m \u001b[49m\u001b[43msys\u001b[49m\u001b[38;5;241;43m.\u001b[39;49m\u001b[43mexc_info\u001b[49m\u001b[43m(\u001b[49m\u001b[43m)\u001b[49m\u001b[43m)\u001b[49m\n",
      "File \u001b[1;32mc:\\users\\danie\\appdata\\local\\programs\\python\\python39\\lib\\shutil.py:620\u001b[0m, in \u001b[0;36m_rmtree_unsafe\u001b[1;34m(path, onerror)\u001b[0m\n\u001b[0;32m    618\u001b[0m             onerror(os\u001b[38;5;241m.\u001b[39munlink, fullname, sys\u001b[38;5;241m.\u001b[39mexc_info())\n\u001b[0;32m    619\u001b[0m \u001b[38;5;28;01mtry\u001b[39;00m:\n\u001b[1;32m--> 620\u001b[0m     \u001b[43mos\u001b[49m\u001b[38;5;241;43m.\u001b[39;49m\u001b[43mrmdir\u001b[49m\u001b[43m(\u001b[49m\u001b[43mpath\u001b[49m\u001b[43m)\u001b[49m\n\u001b[0;32m    621\u001b[0m \u001b[38;5;28;01mexcept\u001b[39;00m \u001b[38;5;167;01mOSError\u001b[39;00m:\n\u001b[0;32m    622\u001b[0m     onerror(os\u001b[38;5;241m.\u001b[39mrmdir, path, sys\u001b[38;5;241m.\u001b[39mexc_info())\n",
      "\u001b[1;31mPermissionError\u001b[0m: [WinError 5] Acceso denegado: './morphing_temp_results\\\\MAD_uhi-type-2'"
     ]
    }
   ],
   "source": [
    "# The validation of parameters is executed automatically inside the function.\n",
    "created_files_custom = morph_epw(\n",
    "    epw_paths=epw_file,\n",
    "    fwg_jar_path=jar_path,\n",
    "    output_dir='./custom_output',\n",
    "    fwg_show_tool_output=True,      # See the tool's progress in real-time\n",
    "    fwg_gcms=['CanESM5'],           # Use only one specific GCM\n",
    "    fwg_interpolation_method_id=2 # Use the \"nearest point\" method\n",
    ")\n",
    "\n",
    "print(\"\\nSuccessfully created files:\")\n",
    "for f in created_files_custom:\n",
    "    print(f)"
   ]
  },
  {
   "cell_type": "markdown",
   "metadata": {},
   "source": [
    "## Expected Output\n",
    "\n",
    "When you run the code above, you should see:\n",
    "1. A detailed printout of the command being executed for your EPW file.\n",
    "2. The real-time console output from the FutureWeatherGenerator tool (since `fwg_show_tool_output=True`).\n",
    "3. A final message listing all the `.epw` and `.stat` files that were successfully created and moved to the `./custom_output` directory."
   ]
  }
 ],
 "metadata": {
  "kernelspec": {
   "display_name": "Python 3 (ipykernel)",
   "language": "python",
   "name": "python3"
  },
  "language_info": {
   "codemirror_mode": {
    "name": "ipython",
    "version": 3
   },
   "file_extension": ".py",
   "mimetype": "text/x-python",
   "name": "python",
   "nbconvert_exporter": "python",
   "pygments_lexer": "ipython3",
   "version": "3.9.4"
  }
 },
 "nbformat": 4,
 "nbformat_minor": 4
}
