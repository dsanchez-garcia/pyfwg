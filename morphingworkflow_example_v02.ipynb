{
 "cells": [
  {
   "cell_type": "markdown",
   "metadata": {},
   "source": [
    "# Advanced Usage: The `MorphingWorkflow` Class\n",
    "\n",
    "This notebook demonstrates the advanced, step-by-step approach to morphing EPW files using the `MorphingWorkflow` class.\n",
    "\n",
    "While the `morph_epw` function is great for direct, one-shot tasks, the `MorphingWorkflow` class is designed for complex projects where you need full control over **filename parsing, custom renaming, and process validation**. It enforces a safe, four-step process that allows you to review and confirm each stage before executing the time-consuming morphing computation."
   ]
  },
  {
   "cell_type": "markdown",
   "metadata": {},
   "source": [
    "## General Setup\n",
    "\n",
    "First, we'll import the necessary class and set up the paths for our files. \n",
    "\n",
    "**Important:** You must change the `jar_path` variable to the correct location of the `FutureWeatherGenerator_v3.0.0.jar` file on your system. You must also ensure that the EPW files exist at the specified paths."
   ]
  },
  {
   "cell_type": "code",
   "execution_count": null,
   "metadata": {},
   "outputs": [],
   "source": [
    "import os\n",
    "from pyfwg import MorphingWorkflow\n",
    "\n",
    "# --- Configuration ---\n",
    "# !!! IMPORTANT: You MUST change this path to the correct location on your PC !!!\n",
    "jar_path = r\"D:\\OneDrive - Universidad de Cádiz (uca.es)\\Programas\\FutureWeatherGenerator_v3.0.0.jar\"\n",
    "\n",
    "# --- Define file paths for the examples ---\n",
    "pattern_epw_dir = 'epws/w_pattern'\n",
    "keyword_epw_dir = 'epws/wo_pattern' # Assuming a similar folder for the second example\n",
    "\n",
    "# --- Pre-run Checks ---\n",
    "if not os.path.exists(jar_path):\n",
    "    print(f\"ERROR: The JAR file was not found at '{jar_path}'. Please update the path.\")\n",
    "if not os.path.exists(pattern_epw_dir):\n",
    "    print(f\"ERROR: The example directory '{pattern_epw_dir}' was not found.\")"
   ]
  },
  {
   "cell_type": "markdown",
   "metadata": {},
   "source": [
    "## Step 1: Map Categories from Filenames\n",
    "\n",
    "This is the first and most critical step for organizing your workflow. The `map_categories` method analyzes your source filenames and extracts meaningful data that will be used later for renaming the output files.\n",
    "\n",
    "### `map_categories` Parameters\n",
    "\n",
    "*   `epw_files` (`List[str]`): **Required.** A list of paths to the EPW files you want to process.\n",
    "*   `input_filename_pattern` (`Optional[str]`, default: `None`): A Python regex string with **named capture groups** (e.g., `(?P<city>...)`) to extract structured data from filenames.\n",
    "*   `keyword_mapping` (`Optional[Dict]`, default: `None`): A dictionary of rules used for two purposes:\n",
    "    1.  **Normalization (with pattern):** Translates the raw values extracted by the pattern into clean, final values (e.g., converts `SVQ` to `seville`).\n",
    "    2.  **Keyword Search (without pattern):** Searches the entire filename for keywords to assign categories. This is ideal for irregularly named files.\n",
    "    *The innermost value can be a single string or a list of strings (e.g., `'seville': ['sevilla', 'svq']`).*"
   ]
  },
  {
   "cell_type": "markdown",
   "metadata": {},
   "source": [
    "### Example 1.1: Using a Regex Pattern with Normalization"
   ]
  },
  {
   "cell_type": "code",
   "execution_count": null,
   "metadata": {},
   "outputs": [],
   "source": [
    "print(\"--- Running Step 1: map_categories (with pattern) ---\")\n",
    "\n",
    "# Instantiate a workflow object for this example\n",
    "workflow_pattern = MorphingWorkflow()\n",
    "\n",
    "# Define the list of files for this specific case\n",
    "epw_files_with_pattern = [os.path.join(pattern_epw_dir, f) for f in os.listdir(pattern_epw_dir)]\n",
    "\n",
    "# Define the mapping rules to normalize the extracted values\n",
    "mapping_rules = {\n",
    "    'city': {\n",
    "        'seville': ['sevilla', 'SVQ'],\n",
    "        'madrid': ['madrid', 'MAD']\n",
    "    },\n",
    "    'uhi': {\n",
    "        'type-1': ['uhi-tipo-1'],\n",
    "        'type-2': ['uhi-tipo-2']\n",
    "    }\n",
    "}\n",
    "\n",
    "workflow_pattern.map_categories(\n",
    "    epw_files=epw_files_with_pattern,\n",
    "    # This pattern extracts raw values like 'MAD' and 'uhi-tipo-2'\n",
    "    input_filename_pattern=r'(?P<city>.*?)_(?P<uhi>.*)',\n",
    "    # This dictionary then normalizes them to 'madrid' and 'type-2'\n",
    "    keyword_mapping=mapping_rules\n",
    ")"
   ]
  },
  {
   "cell_type": "markdown",
   "metadata": {},
   "source": [
    "### Example 1.2: Using Keyword-Only Search\n",
    "\n",
    "This example will use a different workflow object to show how to handle irregularly named files without a regex pattern."
   ]
  },
  {
   "cell_type": "code",
   "execution_count": null,
   "metadata": {},
   "outputs": [],
   "source": [
    "print(\"\\n--- Running Step 1: map_categories (keyword-only) ---\")\n",
    "\n",
    "# Instantiate a separate workflow object\n",
    "workflow_keywords = MorphingWorkflow()\n",
    "\n",
    "# Assume a different set of files with irregular names\n",
    "# You would need to create this folder and files to run this cell\n",
    "# keyword_epw_files = [os.path.join(keyword_epw_dir, f) for f in os.listdir(keyword_epw_dir)]\n",
    "\n",
    "# For demonstration, we will use the same files but a different method\n",
    "workflow_keywords.map_categories(\n",
    "    epw_files=epw_files_with_pattern,\n",
    "    input_filename_pattern=None, # Set to None to activate keyword-only mode\n",
    "    keyword_mapping=mapping_rules\n",
    ")"
   ]
  },
  {
   "cell_type": "markdown",
   "metadata": {},
   "source": [
    "## Step 2: Preview the Rename Plan\n",
    "\n",
    "Now that the categories are mapped, we can generate a \"dry run\" plan to see exactly how our files will be renamed and organized. This step is crucial for catching errors before any computation happens.\n",
    "\n",
    "### `preview_rename_plan` Parameters\n",
    "\n",
    "*   `final_output_dir` (`str`): **Required.** The path to the directory where your final, renamed files will be saved.\n",
    "*   `output_filename_pattern` (`str`): **Required.** A template string for the final filenames. It uses placeholders in braces `{}` that **must match the category names** you defined in `map_categories`.\n",
    "    *   **CRITICAL:** This pattern **MUST** contain the placeholders `{ssp}` and `{year}` to prevent generated files from being overwritten.\n",
    "    *   *Example:* `'{city}_{uhi}_{ssp}_{year}'`\n",
    "*   `scenario_mapping` (`Optional[Dict]`, default: `None`): A dictionary to translate raw scenario names (e.g., `'ssp126'`) into a descriptive format (e.g., `'SSP1-2.6'`) for the `{ssp}` placeholder."
   ]
  },
  {
   "cell_type": "code",
   "execution_count": null,
   "metadata": {},
   "outputs": [],
   "source": [
    "print(\"\\n--- Running Step 2: preview_rename_plan ---\")\n",
    "\n",
    "# We will continue with the 'workflow_pattern' object from the first example.\n",
    "workflow_pattern.preview_rename_plan(\n",
    "    final_output_dir='./final_results_workflow',\n",
    "    # The placeholders {city} and {uhi} match the pattern's capture group names\n",
    "    output_filename_pattern='{city}_{uhi}_{ssp}_{year}',\n",
    "    # The {ssp} placeholder will be populated from this mapping\n",
    "    scenario_mapping={'ssp245': 'SSP2-4.5', 'ssp585': 'SSP5-8.5'}\n",
    ")"
   ]
  },
  {
   "cell_type": "markdown",
   "metadata": {},
   "source": [
    "## Step 3: Set the Morphing Configuration\n",
    "\n",
    "This is the final configuration step. Here, you define all the parameters for the FutureWeatherGenerator tool itself and control the workflow's behavior (e.g., whether to delete temporary files).\n",
    "\n",
    "### `set_morphing_config` Parameters\n",
    "\n",
    "*   `fwg_jar_path` (`str`): **Required.** The path to the `FutureWeatherGenerator_v3.0.0.jar` file.\n",
    "*   `run_incomplete_files` (`bool`, default: `False`): If `True`, the workflow will also process files that were only partially categorized.\n",
    "*   `delete_temp_files` (`bool`, default: `True`): If `True`, temporary folders are deleted after processing.\n",
    "\n",
    "> **Note:** The `fwg_show_tool_output` argument and all other `fwg_` arguments (e.g., `fwg_gcms`, `fwg_interpolation_method_id`, etc.) are identical to the ones in the `morph_epw` function. You can refer to the other notebook for a full list, or inspect the function's docstring.\n",
    "\n",
    "You can also import the list of all valid GCMs to help you choose:\n",
    "```python\n",
    "from pyfwg import DEFAULT_GCMS\n",
    "print(DEFAULT_GCMS)\n",
    "```"
   ]
  },
  {
   "cell_type": "code",
   "execution_count": null,
   "metadata": {},
   "outputs": [],
   "source": [
    "print(\"\\n--- Running Step 3: set_morphing_config ---\")\n",
    "\n",
    "from pyfwg import DEFAULT_GCMS\n",
    "# print(\"Available GCMs:\", DEFAULT_GCMS)\n",
    "\n",
    "workflow_pattern.set_morphing_config(\n",
    "    fwg_jar_path=jar_path,\n",
    "    run_incomplete_files=False,\n",
    "    delete_temp_files=False, # Set to False for debugging\n",
    "    fwg_show_tool_output=True,\n",
    "    fwg_gcms=['BCC_CSM2_MR'], # Use just one GCM for a quick test\n",
    "    temp_base_dir=r'D:\\temp_pyfwg_workflow' # Use a full path for clarity\n",
    ")"
   ]
  },
  {
   "cell_type": "markdown",
   "metadata": {},
   "source": [
    "## Step 4: Execute the Morphing Process\n",
    "\n",
    "This is the final step. The `execute_morphing` method takes **no arguments**. It acts as the \"Go\" button, running the entire process based on the configuration from the previous three steps.\n",
    "\n",
    "As a safeguard, it will raise an error if the configuration is invalid, so it's good practice to check the `is_config_valid` flag first."
   ]
  },
  {
   "cell_type": "code",
   "execution_count": null,
   "metadata": {},
   "outputs": [],
   "source": [
    "print(\"\\n--- Running Step 4: execute_morphing ---\")\n",
    "\n",
    "# This is only called after you are satisfied with the preview and config.\n",
    "# We check the is_config_valid flag first as a safeguard.\n",
    "\n",
    "# Uncomment the following lines to run the actual morphing:\n",
    "# if workflow_pattern.is_config_valid:\n",
    "#     workflow_pattern.execute_morphing()\n",
    "# else:\n",
    "#     print(\"\\nExecution skipped because the configuration is invalid. Please check the warnings above.\")\n",
    "\n",
    "print(\"Script finished. Uncomment the final lines to execute the morphing.\")"
   ]
  }
 ],
 "metadata": {
  "kernelspec": {
   "display_name": "Python 3 (ipykernel)",
   "language": "python",
   "name": "python3"
  },
  "language_info": {
   "codemirror_mode": {
    "name": "ipython",
    "version": 3
   },
   "file_extension": ".py",
   "mimetype": "text/x-python",
   "name": "python",
   "nbconvert_exporter": "python",
   "pygments_lexer": "ipython3",
   "version": "3.9.13"
  }
 },
 "nbformat": 4,
 "nbformat_minor": 4
}
