{
 "cells": [
  {
   "cell_type": "markdown",
   "metadata": {},
   "source": [
    "# Advanced Usage: The `MorphingWorkflow` Classes\n",
    "\n",
    "This notebook demonstrates the advanced, step-by-step approach to morphing EPW files using the specialized `MorphingWorkflow` classes (`MorphingWorkflowGlobal` and `MorphingWorkflowEurope`).\n",
    "\n",
    "While the `morph_epw_*` functions are great for direct, one-shot tasks, the workflow classes are designed for complex projects where you need full control over **filename parsing, custom renaming, and process validation**. They enforce a safe, multi-step process that allows you to review and confirm each stage before executing the time-consuming morphing computation.\n",
    "\n",
    "This notebook will focus on **`MorphingWorkflowGlobal`**."
   ]
  },
  {
   "cell_type": "markdown",
   "metadata": {},
   "source": [
    "## The Three-Step Workflow\n",
    "\n",
    "The class is designed to be used as a state machine, guiding you through a logical sequence:\n",
    "\n",
    "1.  **`map_categories()`**: Analyze the input filenames to extract meaningful data (like city, building type, etc.).\n",
    "2.  **`configure_and_preview()`**: Define all execution parameters, validate them, and generate a \"dry run\" plan of how the final files will be named and organized.\n",
    "3.  **`execute_morphing()`**: Run the final computation, confident that your plan and configuration are correct."
   ]
  },
  {
   "cell_type": "markdown",
   "metadata": {},
   "source": [
    "## General Setup\n",
    "\n",
    "First, we'll import the necessary class and set up the paths for our files. \n",
    "\n",
    "**Important:** You must change the `jar_path` variable to the correct location of the `FutureWeatherGenerator_v3.0.1.jar` file on your system. You must also ensure that the EPW files exist at the specified paths."
   ]
  },
  {
   "cell_type": "code",
   "execution_count": 1,
   "metadata": {},
   "outputs": [],
   "source": [
    "import os\n",
    "import pandas as pd\n",
    "from pyfwg import MorphingWorkflowGlobal, DEFAULT_GLOBAL_GCMS\n",
    "\n",
    "# --- Configuration ---\n",
    "# !!! IMPORTANT: You MUST change this path to the correct location on your PC !!!\n",
    "jar_path = r\"D:\\OneDrive - Universidad de Cádiz (uca.es)\\Programas\\FutureWeatherGenerator_v3.0.1.jar\"\n",
    "\n",
    "# --- Define file paths for the examples ---\n",
    "pattern_epw_dir = 'epws/w_pattern'\n",
    "keyword_epw_dir = 'epws/wo_pattern'"
   ]
  },
  {
   "cell_type": "markdown",
   "metadata": {},
   "source": [
    "## Step 1: Map Categories from Filenames\n",
    "\n",
    "This is the first and most critical step for organizing your workflow. The `map_categories` method analyzes your source filenames and extracts meaningful data that will be used later for renaming the output files."
   ]
  },
  {
   "cell_type": "code",
   "execution_count": 2,
   "metadata": {},
   "outputs": [],
   "source": [
    "# Instantiate a workflow object for this example\n",
    "workflow = MorphingWorkflowGlobal()"
   ]
  },
  {
   "cell_type": "markdown",
   "metadata": {},
   "source": [
    "Let's have a look at the filenames of the EPWs we are going to work with. First, the set that has a pattern we can define with regex:"
   ]
  },
  {
   "cell_type": "code",
   "execution_count": 3,
   "metadata": {},
   "outputs": [
    {
     "name": "stdout",
     "output_type": "stream",
     "text": [
      "['epws/w_pattern\\\\london_uhi-type-2.epw', 'epws/w_pattern\\\\sevilla_uhi-type-1.epw']\n"
     ]
    }
   ],
   "source": [
    "# Define the list of files for this specific case\n",
    "epw_files_with_pattern = [os.path.join(pattern_epw_dir, f) for f in os.listdir(pattern_epw_dir) if f.endswith('.epw')]\n",
    "print(epw_files_with_pattern)"
   ]
  },
  {
   "cell_type": "markdown",
   "metadata": {},
   "source": [
    "And second, the set that does not have a pattern:"
   ]
  },
  {
   "cell_type": "code",
   "execution_count": 4,
   "metadata": {},
   "outputs": [
    {
     "name": "stdout",
     "output_type": "stream",
     "text": [
      "['epws/wo_pattern\\\\GBR_London.Gatwick.037760_IWEC_uhi_type-2.epw', 'epws/wo_pattern\\\\sevilla_in_this_one_the_uhi_is_type-1.epw']\n"
     ]
    }
   ],
   "source": [
    "# Define the list of files for this specific case\n",
    "epw_files_without_pattern = [os.path.join(keyword_epw_dir, f) for f in os.listdir(keyword_epw_dir) if f.endswith('.epw')]\n",
    "print(epw_files_without_pattern)"
   ]
  },
  {
   "cell_type": "markdown",
   "metadata": {},
   "source": [
    "We can also provide a `keyword_mapping` dictionary to translate the extracted raw values (like `sevilla`) into a clean, final format (like `Seville`)."
   ]
  },
  {
   "cell_type": "code",
   "execution_count": 5,
   "metadata": {},
   "outputs": [],
   "source": [
    "# Define the mapping rules to categorize filenames based on their content.\n",
    "# This dictionary provides the logic for both keyword searching and normalization.\n",
    "mapping_rules = {\n",
    "    # The top-level keys ('city', 'uhi') define the final category names\n",
    "    # that will be available as placeholders (e.g., {city}) in the output filename.\n",
    "    'city': {\n",
    "        # The second-level keys ('Seville', 'London') are the final, clean values\n",
    "        # that will be assigned to the 'city' category.\n",
    "        'Seville': ['sevilla', 'SVQ'],  # The keywords to search for (case-insensitive).\n",
    "        'London': ['london', 'gatwick'] # A list is used for multiple possible keywords.\n",
    "    },\n",
    "    'uhi': {\n",
    "        # For convenience, if there is only one keyword to search for,\n",
    "        # you can provide it as a single string instead of a list with one item.\n",
    "        'type-1': 'type-1',\n",
    "        'type-2': 'type-2'\n",
    "    }\n",
    "}\n",
    "\n",
    "# For example, if a filename contains 'SVQ', pyfwg will assign the value 'Seville'\n",
    "# to the 'city' category for that file."
   ]
  },
  {
   "cell_type": "markdown",
   "metadata": {},
   "source": [
    "### Example 1.1: Using a Regex Pattern with Normalization\n",
    "\n",
    "If the filenames follow a consistent pattern, you can use the `input_filename_pattern` argument."
   ]
  },
  {
   "cell_type": "code",
   "execution_count": 6,
   "metadata": {},
   "outputs": [
    {
     "name": "stderr",
     "output_type": "stream",
     "text": [
      "\u001b[32m2025-09-23 10:41:34 - INFO - --- Step 1: Mapping categories from filenames ---\u001b[0m\n",
      "\u001b[32m2025-09-23 10:41:34 - INFO - Mapped 'epws/w_pattern\\london_uhi-type-2.epw': {'city': 'London', 'uhi': 'uhi-type-2'}\u001b[0m\n",
      "\u001b[32m2025-09-23 10:41:34 - INFO - Mapped 'epws/w_pattern\\sevilla_uhi-type-1.epw': {'city': 'Seville', 'uhi': 'uhi-type-1'}\u001b[0m\n",
      "\u001b[32m2025-09-23 10:41:34 - INFO - Category mapping complete.\u001b[0m\n"
     ]
    }
   ],
   "source": [
    "workflow.map_categories(\n",
    "    epw_files=epw_files_with_pattern,\n",
    "    # This pattern extracts raw values like 'sevilla' and 'type-1'\n",
    "    input_filename_pattern=r'(?P<city>.*?)_(?P<uhi>.*)',\n",
    "    # This dictionary then normalizes them to 'Seville' and 'type-1'. In case of type-1, we want to keep it as it is, so we use the same value.\n",
    "    keyword_mapping=mapping_rules\n",
    ")"
   ]
  },
  {
   "cell_type": "markdown",
   "metadata": {},
   "source": [
    "The mapped categories are saved to the attribute `.epw_categories` as a dictionary. Let's view it as a DataFrame for better visualization:"
   ]
  },
  {
   "cell_type": "code",
   "execution_count": 7,
   "metadata": {},
   "outputs": [
    {
     "data": {
      "text/html": [
       "<div>\n",
       "<style scoped>\n",
       "    .dataframe tbody tr th:only-of-type {\n",
       "        vertical-align: middle;\n",
       "    }\n",
       "\n",
       "    .dataframe tbody tr th {\n",
       "        vertical-align: top;\n",
       "    }\n",
       "\n",
       "    .dataframe thead th {\n",
       "        text-align: right;\n",
       "    }\n",
       "</style>\n",
       "<table border=\"1\" class=\"dataframe\">\n",
       "  <thead>\n",
       "    <tr style=\"text-align: right;\">\n",
       "      <th></th>\n",
       "      <th>epws/w_pattern\\london_uhi-type-2.epw</th>\n",
       "      <th>epws/w_pattern\\sevilla_uhi-type-1.epw</th>\n",
       "    </tr>\n",
       "  </thead>\n",
       "  <tbody>\n",
       "    <tr>\n",
       "      <th>city</th>\n",
       "      <td>London</td>\n",
       "      <td>Seville</td>\n",
       "    </tr>\n",
       "    <tr>\n",
       "      <th>uhi</th>\n",
       "      <td>uhi-type-2</td>\n",
       "      <td>uhi-type-1</td>\n",
       "    </tr>\n",
       "  </tbody>\n",
       "</table>\n",
       "</div>"
      ],
      "text/plain": [
       "     epws/w_pattern\\london_uhi-type-2.epw  \\\n",
       "city                               London   \n",
       "uhi                            uhi-type-2   \n",
       "\n",
       "     epws/w_pattern\\sevilla_uhi-type-1.epw  \n",
       "city                               Seville  \n",
       "uhi                             uhi-type-1  "
      ]
     },
     "execution_count": 7,
     "metadata": {},
     "output_type": "execute_result"
    }
   ],
   "source": [
    "pd.DataFrame(workflow.epw_categories)"
   ]
  },
  {
   "cell_type": "markdown",
   "metadata": {},
   "source": [
    "### Example 1.2: Using Keyword-Only Search\n",
    "\n",
    "If your files are irregularly named, set `input_filename_pattern` to `None`. `pyfwg` will then search for the keywords from your mapping dictionary anywhere in the filename."
   ]
  },
  {
   "cell_type": "code",
   "execution_count": 8,
   "metadata": {},
   "outputs": [
    {
     "name": "stderr",
     "output_type": "stream",
     "text": [
      "\u001b[32m2025-09-23 10:41:43 - INFO - --- Step 1: Mapping categories from filenames ---\u001b[0m\n",
      "\u001b[32m2025-09-23 10:41:43 - INFO - Mapped 'epws/wo_pattern\\GBR_London.Gatwick.037760_IWEC_uhi_type-2.epw': {'city': 'London', 'uhi': 'type-2'}\u001b[0m\n",
      "\u001b[32m2025-09-23 10:41:43 - INFO - Mapped 'epws/wo_pattern\\sevilla_in_this_one_the_uhi_is_type-1.epw': {'city': 'Seville', 'uhi': 'type-1'}\u001b[0m\n",
      "\u001b[32m2025-09-23 10:41:43 - INFO - Category mapping complete.\u001b[0m\n"
     ]
    }
   ],
   "source": [
    "workflow.map_categories(\n",
    "    epw_files=epw_files_without_pattern,\n",
    "    input_filename_pattern=None,\n",
    "    keyword_mapping=mapping_rules\n",
    ")"
   ]
  },
  {
   "cell_type": "markdown",
   "metadata": {},
   "source": [
    "Let's view the newly mapped categories:"
   ]
  },
  {
   "cell_type": "code",
   "execution_count": 9,
   "metadata": {},
   "outputs": [
    {
     "data": {
      "text/html": [
       "<div>\n",
       "<style scoped>\n",
       "    .dataframe tbody tr th:only-of-type {\n",
       "        vertical-align: middle;\n",
       "    }\n",
       "\n",
       "    .dataframe tbody tr th {\n",
       "        vertical-align: top;\n",
       "    }\n",
       "\n",
       "    .dataframe thead th {\n",
       "        text-align: right;\n",
       "    }\n",
       "</style>\n",
       "<table border=\"1\" class=\"dataframe\">\n",
       "  <thead>\n",
       "    <tr style=\"text-align: right;\">\n",
       "      <th></th>\n",
       "      <th>epws/wo_pattern\\GBR_London.Gatwick.037760_IWEC_uhi_type-2.epw</th>\n",
       "      <th>epws/wo_pattern\\sevilla_in_this_one_the_uhi_is_type-1.epw</th>\n",
       "    </tr>\n",
       "  </thead>\n",
       "  <tbody>\n",
       "    <tr>\n",
       "      <th>city</th>\n",
       "      <td>London</td>\n",
       "      <td>Seville</td>\n",
       "    </tr>\n",
       "    <tr>\n",
       "      <th>uhi</th>\n",
       "      <td>type-2</td>\n",
       "      <td>type-1</td>\n",
       "    </tr>\n",
       "  </tbody>\n",
       "</table>\n",
       "</div>"
      ],
      "text/plain": [
       "     epws/wo_pattern\\GBR_London.Gatwick.037760_IWEC_uhi_type-2.epw  \\\n",
       "city                                             London              \n",
       "uhi                                              type-2              \n",
       "\n",
       "     epws/wo_pattern\\sevilla_in_this_one_the_uhi_is_type-1.epw  \n",
       "city                                            Seville         \n",
       "uhi                                              type-1         "
      ]
     },
     "execution_count": 9,
     "metadata": {},
     "output_type": "execute_result"
    }
   ],
   "source": [
    "pd.DataFrame(workflow.epw_categories)"
   ]
  },
  {
   "cell_type": "markdown",
   "metadata": {},
   "source": [
    "## Step 2: Configure and Preview the Plan\n",
    "\n",
    "This is the combined configuration and preview step. Here, you define all the parameters for the FutureWeatherGenerator tool and the output filenames. The method validates everything and then shows you a \"dry run\" plan of the final results.\n",
    "\n",
    "The `output_filename_pattern` is very powerful. It can use placeholders from your mapped categories (like `{city}`) and also placeholders for any of the `fwg_` parameters (like `{fwg_interpolation_method_id}`)."
   ]
  },
  {
   "cell_type": "code",
   "execution_count": 10,
   "metadata": {},
   "outputs": [
    {
     "name": "stderr",
     "output_type": "stream",
     "text": [
      "\u001b[32m2025-09-23 10:43:31 - INFO - --- Step 2: Configuring and Previewing Morphing Plan ---\u001b[0m\n"
     ]
    },
    {
     "name": "stdout",
     "output_type": "stream",
     "text": [
      "\n",
      "============================================================\n",
      "          MORPHING CONFIGURATION & PREVIEW\n",
      "============================================================\n",
      "  - FWG JAR Path: D:\\OneDrive - Universidad de Cádiz (uca.es)\\Programas\\FutureWeatherGenerator_v3.0.1.jar\n",
      "  - Final Output Directory: D:\\Python\\pyfwg\\pyfwg\\tutorials\\final_results_workflow\n",
      "  - EPWs to be Morphed (2 files):\n",
      "    - GBR_London.Gatwick.037760_IWEC_uhi_type-2.epw\n",
      "    - sevilla_in_this_one_the_uhi_is_type-1.epw\n",
      "\n",
      "  For input file: GBR_London.Gatwick.037760_IWEC_uhi_type-2.epw\n",
      "    -> Generated 'ssp126_2050.epw' will be moved to: D:\\Python\\pyfwg\\pyfwg\\tutorials\\final_results_workflow\\London_type-2_ssp126_2050_interp-2.epw\n",
      "    -> Generated 'ssp245_2050.epw' will be moved to: D:\\Python\\pyfwg\\pyfwg\\tutorials\\final_results_workflow\\London_type-2_SSP2-4.5_2050_interp-2.epw\n",
      "    -> Generated 'ssp370_2050.epw' will be moved to: D:\\Python\\pyfwg\\pyfwg\\tutorials\\final_results_workflow\\London_type-2_ssp370_2050_interp-2.epw\n",
      "    -> Generated 'ssp585_2050.epw' will be moved to: D:\\Python\\pyfwg\\pyfwg\\tutorials\\final_results_workflow\\London_type-2_SSP5-8.5_2050_interp-2.epw\n",
      "    -> Generated 'ssp126_2080.epw' will be moved to: D:\\Python\\pyfwg\\pyfwg\\tutorials\\final_results_workflow\\London_type-2_ssp126_2080_interp-2.epw\n",
      "    -> Generated 'ssp245_2080.epw' will be moved to: D:\\Python\\pyfwg\\pyfwg\\tutorials\\final_results_workflow\\London_type-2_SSP2-4.5_2080_interp-2.epw\n",
      "    -> Generated 'ssp370_2080.epw' will be moved to: D:\\Python\\pyfwg\\pyfwg\\tutorials\\final_results_workflow\\London_type-2_ssp370_2080_interp-2.epw\n",
      "    -> Generated 'ssp585_2080.epw' will be moved to: D:\\Python\\pyfwg\\pyfwg\\tutorials\\final_results_workflow\\London_type-2_SSP5-8.5_2080_interp-2.epw\n",
      "\n",
      "  For input file: sevilla_in_this_one_the_uhi_is_type-1.epw\n",
      "    -> Generated 'ssp126_2050.epw' will be moved to: D:\\Python\\pyfwg\\pyfwg\\tutorials\\final_results_workflow\\Seville_type-1_ssp126_2050_interp-2.epw\n",
      "    -> Generated 'ssp245_2050.epw' will be moved to: D:\\Python\\pyfwg\\pyfwg\\tutorials\\final_results_workflow\\Seville_type-1_SSP2-4.5_2050_interp-2.epw\n",
      "    -> Generated 'ssp370_2050.epw' will be moved to: D:\\Python\\pyfwg\\pyfwg\\tutorials\\final_results_workflow\\Seville_type-1_ssp370_2050_interp-2.epw\n",
      "    -> Generated 'ssp585_2050.epw' will be moved to: D:\\Python\\pyfwg\\pyfwg\\tutorials\\final_results_workflow\\Seville_type-1_SSP5-8.5_2050_interp-2.epw\n",
      "    -> Generated 'ssp126_2080.epw' will be moved to: D:\\Python\\pyfwg\\pyfwg\\tutorials\\final_results_workflow\\Seville_type-1_ssp126_2080_interp-2.epw\n",
      "    -> Generated 'ssp245_2080.epw' will be moved to: D:\\Python\\pyfwg\\pyfwg\\tutorials\\final_results_workflow\\Seville_type-1_SSP2-4.5_2080_interp-2.epw\n",
      "    -> Generated 'ssp370_2080.epw' will be moved to: D:\\Python\\pyfwg\\pyfwg\\tutorials\\final_results_workflow\\Seville_type-1_ssp370_2080_interp-2.epw\n",
      "    -> Generated 'ssp585_2080.epw' will be moved to: D:\\Python\\pyfwg\\pyfwg\\tutorials\\final_results_workflow\\Seville_type-1_SSP5-8.5_2080_interp-2.epw\n",
      "============================================================\n",
      "Configuration set. Call execute_morphing() to start the process.\n"
     ]
    }
   ],
   "source": [
    "# We will continue with the 'workflow' object, which now contains the keyword-mapped files.\n",
    "workflow.configure_and_preview(\n",
    "    final_output_dir='./final_results_workflow',\n",
    "    # The placeholders {city} and {uhi} match the mapping rule keys\n",
    "    output_filename_pattern='{city}_{uhi}_{ssp}_{year}_interp-{fwg_interpolation_method_id}',\n",
    "    # The {ssp} placeholder will be populated from this mapping\n",
    "    # For instance, the SSP scenario will be shown as 'SSP2-4.5' in the output filename instead of 'ssp245'.\n",
    "    scenario_mapping={'ssp245': 'SSP2-4.5', 'ssp585': 'SSP5-8.5'},\n",
    "    \n",
    "    # --- FWG Configuration ---\n",
    "    fwg_jar_path=jar_path,\n",
    "    fwg_gcms=['BCC_CSM2_MR'], # Use just one GCM for a quick test\n",
    "    fwg_interpolation_method_id=2, # This value will appear in the filename\n",
    "    fwg_show_tool_output=True,\n",
    "    delete_temp_files=False # Set to False for debugging\n",
    ")"
   ]
  },
  {
   "cell_type": "markdown",
   "metadata": {},
   "source": [
    "You can also inspect the rename plan just shown above in the attribute `.rename_plan`"
   ]
  },
  {
   "cell_type": "code",
   "execution_count": 13,
   "metadata": {},
   "outputs": [
    {
     "data": {
      "text/plain": [
       "{'epws/wo_pattern\\\\GBR_London.Gatwick.037760_IWEC_uhi_type-2.epw': {'ssp126_2050.epw': './final_results_workflow\\\\London_type-2_ssp126_2050_interp-2.epw',\n",
       "  'ssp245_2050.epw': './final_results_workflow\\\\London_type-2_SSP2-4.5_2050_interp-2.epw',\n",
       "  'ssp370_2050.epw': './final_results_workflow\\\\London_type-2_ssp370_2050_interp-2.epw',\n",
       "  'ssp585_2050.epw': './final_results_workflow\\\\London_type-2_SSP5-8.5_2050_interp-2.epw',\n",
       "  'ssp126_2080.epw': './final_results_workflow\\\\London_type-2_ssp126_2080_interp-2.epw',\n",
       "  'ssp245_2080.epw': './final_results_workflow\\\\London_type-2_SSP2-4.5_2080_interp-2.epw',\n",
       "  'ssp370_2080.epw': './final_results_workflow\\\\London_type-2_ssp370_2080_interp-2.epw',\n",
       "  'ssp585_2080.epw': './final_results_workflow\\\\London_type-2_SSP5-8.5_2080_interp-2.epw'},\n",
       " 'epws/wo_pattern\\\\sevilla_in_this_one_the_uhi_is_type-1.epw': {'ssp126_2050.epw': './final_results_workflow\\\\Seville_type-1_ssp126_2050_interp-2.epw',\n",
       "  'ssp245_2050.epw': './final_results_workflow\\\\Seville_type-1_SSP2-4.5_2050_interp-2.epw',\n",
       "  'ssp370_2050.epw': './final_results_workflow\\\\Seville_type-1_ssp370_2050_interp-2.epw',\n",
       "  'ssp585_2050.epw': './final_results_workflow\\\\Seville_type-1_SSP5-8.5_2050_interp-2.epw',\n",
       "  'ssp126_2080.epw': './final_results_workflow\\\\Seville_type-1_ssp126_2080_interp-2.epw',\n",
       "  'ssp245_2080.epw': './final_results_workflow\\\\Seville_type-1_SSP2-4.5_2080_interp-2.epw',\n",
       "  'ssp370_2080.epw': './final_results_workflow\\\\Seville_type-1_ssp370_2080_interp-2.epw',\n",
       "  'ssp585_2080.epw': './final_results_workflow\\\\Seville_type-1_SSP5-8.5_2080_interp-2.epw'}}"
      ]
     },
     "execution_count": 13,
     "metadata": {},
     "output_type": "execute_result"
    }
   ],
   "source": [
    "workflow.rename_plan"
   ]
  },
  {
   "cell_type": "code",
   "execution_count": 11,
   "metadata": {},
   "outputs": [
    {
     "data": {
      "text/plain": [
       "{'epw_files': ['epws/wo_pattern\\\\GBR_London.Gatwick.037760_IWEC_uhi_type-2.epw',\n",
       "  'epws/wo_pattern\\\\sevilla_in_this_one_the_uhi_is_type-1.epw'],\n",
       " 'final_output_dir': './final_results_workflow',\n",
       " 'output_filename_pattern': '{city}_{uhi}_{ssp}_{year}_interp-{fwg_interpolation_method_id}',\n",
       " 'scenario_mapping': {'ssp245': 'SSP2-4.5', 'ssp585': 'SSP5-8.5'},\n",
       " 'fwg_jar_path': 'D:\\\\OneDrive - Universidad de Cádiz (uca.es)\\\\Programas\\\\FutureWeatherGenerator_v3.0.1.jar',\n",
       " 'run_incomplete_files': False,\n",
       " 'delete_temp_files': False,\n",
       " 'temp_base_dir': './morphing_temp_results',\n",
       " 'show_tool_output': True,\n",
       " 'fwg_params': {'gcms': ['BCC_CSM2_MR'],\n",
       "  'create_ensemble': True,\n",
       "  'winter_sd_shift': 0.0,\n",
       "  'summer_sd_shift': 0.0,\n",
       "  'month_transition_hours': 72,\n",
       "  'use_multithreading': True,\n",
       "  'interpolation_method_id': 2,\n",
       "  'limit_variables': True,\n",
       "  'solar_hour_adjustment': 1,\n",
       "  'diffuse_irradiation_model': 1,\n",
       "  'add_uhi': True,\n",
       "  'epw_original_lcz': 14,\n",
       "  'target_uhi_lcz': 1},\n",
       " 'fwg_params_formatted': {'models': 'BCC_CSM2_MR',\n",
       "  'ensemble': '1',\n",
       "  'sd_shift': '0.0:0.0',\n",
       "  'month_transition_hours': '72',\n",
       "  'do_multithred_computation': 'true',\n",
       "  'interpolation_method_id': '2',\n",
       "  'do_limit_variables': 'true',\n",
       "  'solar_hour_adjustment_option': '1',\n",
       "  'diffuse_irradiation_model_option': '1',\n",
       "  'uhi_combined': '1:14:1'}}"
      ]
     },
     "execution_count": 11,
     "metadata": {},
     "output_type": "execute_result"
    }
   ],
   "source": [
    "workflow.inputs"
   ]
  },
  {
   "cell_type": "code",
   "execution_count": 12,
   "metadata": {},
   "outputs": [
    {
     "data": {
      "text/plain": [
       "{'gcms': ['BCC_CSM2_MR'],\n",
       " 'create_ensemble': True,\n",
       " 'winter_sd_shift': 0.0,\n",
       " 'summer_sd_shift': 0.0,\n",
       " 'month_transition_hours': 72,\n",
       " 'use_multithreading': True,\n",
       " 'interpolation_method_id': 2,\n",
       " 'limit_variables': True,\n",
       " 'solar_hour_adjustment': 1,\n",
       " 'diffuse_irradiation_model': 1,\n",
       " 'add_uhi': True,\n",
       " 'epw_original_lcz': 14,\n",
       " 'target_uhi_lcz': 1}"
      ]
     },
     "execution_count": 12,
     "metadata": {},
     "output_type": "execute_result"
    }
   ],
   "source": [
    "workflow.inputs['fwg_params']"
   ]
  },
  {
   "cell_type": "markdown",
   "metadata": {},
   "source": [
    "## Step 3: Execute the Morphing Process\n",
    "\n",
    "This is the final step. The `execute_morphing` method takes **no arguments**. It acts as the \"Go\" button, running the entire process based on the configuration from the previous step.\n",
    "\n",
    "As a safeguard, it will raise an error if the configuration is invalid, so it's good practice to check the `is_config_valid` flag first."
   ]
  },
  {
   "cell_type": "code",
   "execution_count": null,
   "metadata": {},
   "outputs": [],
   "source": [
    "workflow.execute_morphing()"
   ]
  },
  {
   "cell_type": "code",
   "execution_count": null,
   "metadata": {},
   "outputs": [],
   "source": [
    "print(\"Script finished. Uncomment the final lines to execute the morphing.\")"
   ]
  }
 ],
 "metadata": {
  "kernelspec": {
   "display_name": "Python 3 (ipykernel)",
   "language": "python",
   "name": "python3"
  },
  "language_info": {
   "codemirror_mode": {
    "name": "ipython",
    "version": 3
   },
   "file_extension": ".py",
   "mimetype": "text/x-python",
   "name": "python",
   "nbconvert_exporter": "python",
   "pygments_lexer": "ipython3",
   "version": "3.9.13"
  }
 },
 "nbformat": 4,
 "nbformat_minor": 4
}
