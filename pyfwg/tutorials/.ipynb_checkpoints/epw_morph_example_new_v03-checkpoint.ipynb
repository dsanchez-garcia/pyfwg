{
 "cells": [
  {
   "cell_type": "markdown",
   "metadata": {},
   "source": [
    "# Using `pyfwg` for direct morphing with `morph_epw_global` and `morph_epw_europe`\n",
    "\n",
    "This notebook demonstrates the simplest and most direct way to use the `pyfwg` library: the `morph_epw_global` and `morph_epw_europe` functions.\n",
    "\n",
    "These functions are designed as one-shot tools that provide full access to all of the FutureWeatherGenerator's parameters without requiring the user to manage the multi-step `MorphingWorkflow` class. It handles parameter validation, temporary file management, and final file placement in a single call."
   ]
  },
  {
   "cell_type": "markdown",
   "metadata": {},
   "source": [
    "## Understanding the Parameters\n",
    "\n",
    "The `morph_epw_global` and `morph_epw_europe` functions are powerful because these exposes all of the underlying tool's options. Here is a complete reference for all their arguments.\n",
    "\n",
    "### Core Parameters\n",
    "\n",
    "*   `epw_paths` (`Union[str, List[str]]`): **Required.** The path to a single EPW file (as a string) or a list of paths to multiple EPW files.\n",
    "*   `fwg_jar_path` (`str`): **Required.** The absolute or relative path to the `FutureWeatherGenerator_v3.0.0.jar` file.\n",
    "\n",
    "### Workflow Control Parameters\n",
    "\n",
    "*   `output_dir` (`str`, default: `'./morphed_epws'`): The directory where the final morphed `.epw` and `.stat` files will be saved.\n",
    "*   `delete_temp_files` (`bool`, default: `True`): If `True`, the temporary folders are deleted after processing. Set to `False` for debugging.\n",
    "*   `temp_base_dir` (`str`, default: `'./morphing_temp_results'`): The base directory where temporary folders will be created.\n",
    "*   `fwg_show_tool_output` (`bool`, default: `False`): If `True`, prints the FWG tool's console output in real-time. Highly recommended for monitoring progress.\n",
    "*   `fwg_params` (`Optional[Dict]`, default: `None`): A dictionary for providing a base set of FWG parameters. Any explicit `fwg_` argument will override the values in this dictionary.\n",
    "\n",
    "### FutureWeatherGenerator Tool Parameters\n",
    "\n",
    "These arguments correspond directly to the options in the FWG command-line tool.\n",
    "\n",
    "*   `fwg_gcms` (`Optional[List[str]]`, default: `None`): **Only valid for `morph_epw_global`**. A list of GCMs to use. If `None`, the full default list is used to create an ensemble.\n",
    "*   `fwg_rcm_pairs` (`Optional[List[str]]`, default: `None`): **Only valid for `morph_epw_europe`**. List of GCM-RCM pairs to use. If None, the tool's default list is used.\n",
    "*   `fwg_create_ensemble` (`bool`, default: `True`): If `True`, creates an ensemble from the selected GCMs (Argument: `%ensemble%`).\n",
    "*   `fwg_winter_sd_shift` (`float`, default: `0.0`): Temperature's standard deviation shift for the winter peak month. Range: -2.0 to 2.0.\n",
    "*   `fwg_summer_sd_shift` (`float`, default: `0.0`): Temperature's standard deviation shift for the summer peak month. Range: -2.0 to 2.0.\n",
    "*   `fwg_month_transition_hours` (`int`, default: `72`): Number of hours to smooth the transition between months. Range: 0 to 336.\n",
    "*   `fwg_use_multithreading` (`bool`, default: `True`): If `True`, performs computations in multithread (Argument: `%do_multithred_computation%`).\n",
    "*   `fwg_interpolation_method_id` (`int`, default: `0`): Selects the grid method. Options: `0` (inversed distance weighting), `1` (average of four nearest points), `2` (nearest point).\n",
    "*   `fwg_limit_variables` (`bool`, default: `True`): If `True`, bounds each generated variable to its physical limits (Argument: `%do_limit_variables%`).\n",
    "*   `fwg_solar_hour_adjustment` (`int`, default: `1`): Option for solar hour adjustment. Options: `0` (None), `1` (ByMonth), `2` (ByDay).\n",
    "*   `fwg_diffuse_irradiation_model` (`int`, default: `1`): Option for diffuse solar irradiation model. Options: `0` (Ridley), `1` (Engerer), `2` (Paulescu).\n",
    "*   `fwg_add_uhi` (`bool`, default: `True`): Option to pre-process the Urban Heat Island (UHI) effect.\n",
    "*   `fwg_epw_original_lcz` (`int`, default: `14`): The Local Climate Zone (LCZ) of the original EPW. Range: 1 to 17.\n",
    "*   `fwg_target_uhi_lcz` (`int`, default: `1`): The target LCZ of the generated EPW. Range: 1 to 17."
   ]
  },
  {
   "cell_type": "markdown",
   "metadata": {},
   "source": [
    "## Using `morph_epw_global`"
   ]
  },
  {
   "cell_type": "markdown",
   "metadata": {},
   "source": [
    "### Step 1: Imports and Setup\n",
    "\n",
    "First, we'll import the necessary function and set up our file paths. \n",
    "\n",
    "**Important:** You must change the `jar_path` variable to the correct location of the `FutureWeatherGenerator_v3.0.1.jar` file on your system. You must also ensure that the `epw_file` path is correct relative to where you are running this notebook."
   ]
  },
  {
   "cell_type": "code",
   "execution_count": 1,
   "metadata": {},
   "outputs": [],
   "source": [
    "import os\n",
    "from pyfwg import morph_epw_global\n",
    "\n",
    "# --- Configuration ---\n",
    "# Define the path to the EPW file to be processed. You can also define a list of paths to process multiple EPW files.\n",
    "epw_file = 'epws/w_pattern/sevilla_uhi-type-1.epw'\n",
    "\n",
    "# !!! IMPORTANT: You MUST change this path to the correct location on your PC !!!\n",
    "jar_path = r\"D:\\OneDrive - Universidad de Cádiz (uca.es)\\Programas\\FutureWeatherGenerator_v3.0.1.jar\""
   ]
  },
  {
   "cell_type": "markdown",
   "metadata": {},
   "source": [
    "### Step 2: Run the Morphing Process\n",
    "\n",
    "Now, we can call the `morph_epw` function. We will override a few of the default parameters to demonstrate how to customize the process. To speed up the process, let's use just one GCM. If you don't know which are these, you can import the list containing the default models:"
   ]
  },
  {
   "cell_type": "code",
   "execution_count": 2,
   "metadata": {},
   "outputs": [
    {
     "name": "stdout",
     "output_type": "stream",
     "text": [
      "{'CNRM_CM6_1_HR', 'GFDL_ESM4', 'BCC_CSM2_MR', 'MIROC6', 'IPSL_CM6A_LR', 'FGOALS_g3', 'MIROC_ES2H', 'GISS_E2_1_H', 'EC_Earth3', 'GISS_E2_2_G', 'EC_Earth3_Veg_LR', 'CanESM5_1', 'MIROC_ES2L', 'CAS_ESM2_0', 'GISS_E2_1_G', 'CanESM5_CanOE', 'CMCC_ESM2', 'CNRM_CM6_1', 'CanESM5', 'UKESM1_0_LL', 'CNRM_ESM2_1', 'MRI_ESM2_0', 'EC_Earth3_Veg'}\n"
     ]
    }
   ],
   "source": [
    "from pyfwg import DEFAULT_GLOBAL_GCMS\n",
    "print(DEFAULT_GLOBAL_GCMS)"
   ]
  },
  {
   "cell_type": "markdown",
   "metadata": {},
   "source": [
    "So let's use for instance \"CanESM5\":"
   ]
  },
  {
   "cell_type": "code",
   "execution_count": 3,
   "metadata": {},
   "outputs": [
    {
     "name": "stderr",
     "output_type": "stream",
     "text": [
      "\u001b[32m2025-09-22 12:50:51 - INFO - --- Starting Direct Global Morphing Process ---\u001b[0m\n",
      "\u001b[32m2025-09-22 12:50:51 - INFO - --- Step 1: Mapping categories from filenames ---\u001b[0m\n",
      "\u001b[33m2025-09-22 12:50:51 - WARNING - Could not map any categories for 'epws/w_pattern/sevilla_uhi-type-1.epw'. Skipping.\u001b[0m\n",
      "\u001b[32m2025-09-22 12:50:51 - INFO - Category mapping complete.\u001b[0m\n"
     ]
    },
    {
     "ename": "RuntimeError",
     "evalue": "Please run map_categories() first. No files were successfully mapped.",
     "output_type": "error",
     "traceback": [
      "\u001b[1;31m---------------------------------------------------------------------------\u001b[0m",
      "\u001b[1;31mRuntimeError\u001b[0m                              Traceback (most recent call last)",
      "Cell \u001b[1;32mIn[3], line 2\u001b[0m\n\u001b[0;32m      1\u001b[0m \u001b[38;5;66;03m# The validation of parameters is executed automatically inside the function.\u001b[39;00m\n\u001b[1;32m----> 2\u001b[0m created_files_custom \u001b[38;5;241m=\u001b[39m \u001b[43mmorph_epw_global\u001b[49m\u001b[43m(\u001b[49m\n\u001b[0;32m      3\u001b[0m \u001b[43m    \u001b[49m\u001b[43mepw_paths\u001b[49m\u001b[38;5;241;43m=\u001b[39;49m\u001b[43mepw_file\u001b[49m\u001b[43m,\u001b[49m\n\u001b[0;32m      4\u001b[0m \u001b[43m    \u001b[49m\u001b[43mfwg_jar_path\u001b[49m\u001b[38;5;241;43m=\u001b[39;49m\u001b[43mjar_path\u001b[49m\u001b[43m,\u001b[49m\n\u001b[0;32m      5\u001b[0m \u001b[43m    \u001b[49m\u001b[43moutput_dir\u001b[49m\u001b[38;5;241;43m=\u001b[39;49m\u001b[38;5;124;43m'\u001b[39;49m\u001b[38;5;124;43m./custom_output_global\u001b[39;49m\u001b[38;5;124;43m'\u001b[39;49m\u001b[43m,\u001b[49m\n\u001b[0;32m      6\u001b[0m \u001b[43m    \u001b[49m\u001b[43mfwg_show_tool_output\u001b[49m\u001b[38;5;241;43m=\u001b[39;49m\u001b[38;5;28;43;01mTrue\u001b[39;49;00m\u001b[43m,\u001b[49m\u001b[43m      \u001b[49m\u001b[38;5;66;43;03m# See the tool's progress in real-time\u001b[39;49;00m\n\u001b[0;32m      7\u001b[0m \u001b[43m    \u001b[49m\u001b[43mfwg_gcms\u001b[49m\u001b[38;5;241;43m=\u001b[39;49m\u001b[43m[\u001b[49m\u001b[38;5;124;43m'\u001b[39;49m\u001b[38;5;124;43mCanESM5\u001b[39;49m\u001b[38;5;124;43m'\u001b[39;49m\u001b[43m]\u001b[49m\u001b[43m,\u001b[49m\u001b[43m           \u001b[49m\u001b[38;5;66;43;03m# Use only one specific GCM\u001b[39;49;00m\n\u001b[0;32m      8\u001b[0m \u001b[43m    \u001b[49m\u001b[43mfwg_interpolation_method_id\u001b[49m\u001b[38;5;241;43m=\u001b[39;49m\u001b[38;5;241;43m2\u001b[39;49m\u001b[43m \u001b[49m\u001b[38;5;66;43;03m# Use the \"nearest point\" method\u001b[39;49;00m\n\u001b[0;32m      9\u001b[0m \u001b[43m)\u001b[49m\n\u001b[0;32m     11\u001b[0m \u001b[38;5;28mprint\u001b[39m(\u001b[38;5;124m\"\u001b[39m\u001b[38;5;130;01m\\n\u001b[39;00m\u001b[38;5;124mSuccessfully created files:\u001b[39m\u001b[38;5;124m\"\u001b[39m)\n\u001b[0;32m     12\u001b[0m \u001b[38;5;28;01mfor\u001b[39;00m f \u001b[38;5;129;01min\u001b[39;00m created_files_custom:\n",
      "File \u001b[1;32mc:\\users\\danie\\appdata\\local\\programs\\python\\python39\\lib\\site-packages\\pyfwg\\api.py:256\u001b[0m, in \u001b[0;36mmorph_epw_global\u001b[1;34m(epw_paths, fwg_jar_path, output_dir, delete_temp_files, temp_base_dir, fwg_show_tool_output, fwg_params, fwg_gcms, fwg_create_ensemble, fwg_winter_sd_shift, fwg_summer_sd_shift, fwg_month_transition_hours, fwg_use_multithreading, fwg_interpolation_method_id, fwg_limit_variables, fwg_solar_hour_adjustment, fwg_diffuse_irradiation_model, fwg_add_uhi, fwg_epw_original_lcz, fwg_target_uhi_lcz)\u001b[0m\n\u001b[0;32m    249\u001b[0m workflow\u001b[38;5;241m.\u001b[39mmap_categories(\n\u001b[0;32m    250\u001b[0m     epw_files\u001b[38;5;241m=\u001b[39mepw_files,\n\u001b[0;32m    251\u001b[0m     keyword_mapping\u001b[38;5;241m=\u001b[39m{\u001b[38;5;124m'\u001b[39m\u001b[38;5;124mbasename\u001b[39m\u001b[38;5;124m'\u001b[39m: {os\u001b[38;5;241m.\u001b[39mpath\u001b[38;5;241m.\u001b[39msplitext(os\u001b[38;5;241m.\u001b[39mpath\u001b[38;5;241m.\u001b[39mbasename(p))[\u001b[38;5;241m0\u001b[39m]: p \u001b[38;5;28;01mfor\u001b[39;00m p \u001b[38;5;129;01min\u001b[39;00m epw_files}}\n\u001b[0;32m    252\u001b[0m )\n\u001b[0;32m    254\u001b[0m \u001b[38;5;66;03m# Call the correct, renamed method: configure_and_preview.\u001b[39;00m\n\u001b[0;32m    255\u001b[0m \u001b[38;5;66;03m# This reuses all the validation and parameter-building logic from the class.\u001b[39;00m\n\u001b[1;32m--> 256\u001b[0m \u001b[43mworkflow\u001b[49m\u001b[38;5;241;43m.\u001b[39;49m\u001b[43mconfigure_and_preview\u001b[49m\u001b[43m(\u001b[49m\n\u001b[0;32m    257\u001b[0m \u001b[43m    \u001b[49m\u001b[43mfinal_output_dir\u001b[49m\u001b[38;5;241;43m=\u001b[39;49m\u001b[43moutput_dir\u001b[49m\u001b[43m,\u001b[49m\n\u001b[0;32m    258\u001b[0m \u001b[43m    \u001b[49m\u001b[38;5;66;43;03m# For this simple API, the output pattern is not used for complex renaming,\u001b[39;49;00m\n\u001b[0;32m    259\u001b[0m \u001b[43m    \u001b[49m\u001b[38;5;66;43;03m# but it must be provided with the correct placeholders to pass validation.\u001b[39;49;00m\n\u001b[0;32m    260\u001b[0m \u001b[43m    \u001b[49m\u001b[43moutput_filename_pattern\u001b[49m\u001b[38;5;241;43m=\u001b[39;49m\u001b[38;5;124;43m'\u001b[39;49m\u001b[38;5;132;43;01m{ssp}\u001b[39;49;00m\u001b[38;5;124;43m_\u001b[39;49m\u001b[38;5;132;43;01m{year}\u001b[39;49;00m\u001b[38;5;124;43m'\u001b[39;49m\u001b[43m,\u001b[49m\n\u001b[0;32m    261\u001b[0m \u001b[43m    \u001b[49m\u001b[43mfwg_jar_path\u001b[49m\u001b[38;5;241;43m=\u001b[39;49m\u001b[43mfwg_jar_path\u001b[49m\u001b[43m,\u001b[49m\n\u001b[0;32m    262\u001b[0m \u001b[43m    \u001b[49m\u001b[43mrun_incomplete_files\u001b[49m\u001b[38;5;241;43m=\u001b[39;49m\u001b[38;5;28;43;01mTrue\u001b[39;49;00m\u001b[43m,\u001b[49m\u001b[43m  \u001b[49m\u001b[38;5;66;43;03m# In the simple API, we always attempt to run all provided files.\u001b[39;49;00m\n\u001b[0;32m    263\u001b[0m \u001b[43m    \u001b[49m\u001b[43mdelete_temp_files\u001b[49m\u001b[38;5;241;43m=\u001b[39;49m\u001b[43mdelete_temp_files\u001b[49m\u001b[43m,\u001b[49m\n\u001b[0;32m    264\u001b[0m \u001b[43m    \u001b[49m\u001b[43mtemp_base_dir\u001b[49m\u001b[38;5;241;43m=\u001b[39;49m\u001b[43mtemp_base_dir\u001b[49m\u001b[43m,\u001b[49m\n\u001b[0;32m    265\u001b[0m \u001b[43m    \u001b[49m\u001b[43mfwg_show_tool_output\u001b[49m\u001b[38;5;241;43m=\u001b[39;49m\u001b[43mfwg_show_tool_output\u001b[49m\u001b[43m,\u001b[49m\n\u001b[0;32m    266\u001b[0m \u001b[43m    \u001b[49m\u001b[43mfwg_params\u001b[49m\u001b[38;5;241;43m=\u001b[39;49m\u001b[43mfwg_params\u001b[49m\u001b[43m,\u001b[49m\n\u001b[0;32m    267\u001b[0m \u001b[43m    \u001b[49m\u001b[43mfwg_gcms\u001b[49m\u001b[38;5;241;43m=\u001b[39;49m\u001b[43mfwg_gcms\u001b[49m\u001b[43m,\u001b[49m\n\u001b[0;32m    268\u001b[0m \u001b[43m    \u001b[49m\u001b[43mfwg_create_ensemble\u001b[49m\u001b[38;5;241;43m=\u001b[39;49m\u001b[43mfwg_create_ensemble\u001b[49m\u001b[43m,\u001b[49m\n\u001b[0;32m    269\u001b[0m \u001b[43m    \u001b[49m\u001b[43mfwg_winter_sd_shift\u001b[49m\u001b[38;5;241;43m=\u001b[39;49m\u001b[43mfwg_winter_sd_shift\u001b[49m\u001b[43m,\u001b[49m\n\u001b[0;32m    270\u001b[0m \u001b[43m    \u001b[49m\u001b[43mfwg_summer_sd_shift\u001b[49m\u001b[38;5;241;43m=\u001b[39;49m\u001b[43mfwg_summer_sd_shift\u001b[49m\u001b[43m,\u001b[49m\n\u001b[0;32m    271\u001b[0m \u001b[43m    \u001b[49m\u001b[43mfwg_month_transition_hours\u001b[49m\u001b[38;5;241;43m=\u001b[39;49m\u001b[43mfwg_month_transition_hours\u001b[49m\u001b[43m,\u001b[49m\n\u001b[0;32m    272\u001b[0m \u001b[43m    \u001b[49m\u001b[43mfwg_use_multithreading\u001b[49m\u001b[38;5;241;43m=\u001b[39;49m\u001b[43mfwg_use_multithreading\u001b[49m\u001b[43m,\u001b[49m\n\u001b[0;32m    273\u001b[0m \u001b[43m    \u001b[49m\u001b[43mfwg_interpolation_method_id\u001b[49m\u001b[38;5;241;43m=\u001b[39;49m\u001b[43mfwg_interpolation_method_id\u001b[49m\u001b[43m,\u001b[49m\n\u001b[0;32m    274\u001b[0m \u001b[43m    \u001b[49m\u001b[43mfwg_limit_variables\u001b[49m\u001b[38;5;241;43m=\u001b[39;49m\u001b[43mfwg_limit_variables\u001b[49m\u001b[43m,\u001b[49m\n\u001b[0;32m    275\u001b[0m \u001b[43m    \u001b[49m\u001b[43mfwg_solar_hour_adjustment\u001b[49m\u001b[38;5;241;43m=\u001b[39;49m\u001b[43mfwg_solar_hour_adjustment\u001b[49m\u001b[43m,\u001b[49m\n\u001b[0;32m    276\u001b[0m \u001b[43m    \u001b[49m\u001b[43mfwg_diffuse_irradiation_model\u001b[49m\u001b[38;5;241;43m=\u001b[39;49m\u001b[43mfwg_diffuse_irradiation_model\u001b[49m\u001b[43m,\u001b[49m\n\u001b[0;32m    277\u001b[0m \u001b[43m    \u001b[49m\u001b[43mfwg_add_uhi\u001b[49m\u001b[38;5;241;43m=\u001b[39;49m\u001b[43mfwg_add_uhi\u001b[49m\u001b[43m,\u001b[49m\n\u001b[0;32m    278\u001b[0m \u001b[43m    \u001b[49m\u001b[43mfwg_epw_original_lcz\u001b[49m\u001b[38;5;241;43m=\u001b[39;49m\u001b[43mfwg_epw_original_lcz\u001b[49m\u001b[43m,\u001b[49m\n\u001b[0;32m    279\u001b[0m \u001b[43m    \u001b[49m\u001b[43mfwg_target_uhi_lcz\u001b[49m\u001b[38;5;241;43m=\u001b[39;49m\u001b[43mfwg_target_uhi_lcz\u001b[49m\n\u001b[0;32m    280\u001b[0m \u001b[43m\u001b[49m\u001b[43m)\u001b[49m\n\u001b[0;32m    282\u001b[0m \u001b[38;5;66;03m# Block execution if the configuration was found to be invalid.\u001b[39;00m\n\u001b[0;32m    283\u001b[0m \u001b[38;5;28;01mif\u001b[39;00m \u001b[38;5;129;01mnot\u001b[39;00m workflow\u001b[38;5;241m.\u001b[39mis_config_valid:\n",
      "File \u001b[1;32mc:\\users\\danie\\appdata\\local\\programs\\python\\python39\\lib\\site-packages\\pyfwg\\workflow.py:740\u001b[0m, in \u001b[0;36mMorphingWorkflowGlobal.configure_and_preview\u001b[1;34m(self, final_output_dir, output_filename_pattern, scenario_mapping, fwg_jar_path, run_incomplete_files, delete_temp_files, temp_base_dir, fwg_show_tool_output, fwg_params, fwg_gcms, fwg_create_ensemble, fwg_winter_sd_shift, fwg_summer_sd_shift, fwg_month_transition_hours, fwg_use_multithreading, fwg_interpolation_method_id, fwg_limit_variables, fwg_solar_hour_adjustment, fwg_diffuse_irradiation_model, fwg_add_uhi, fwg_epw_original_lcz, fwg_target_uhi_lcz)\u001b[0m\n\u001b[0;32m    704\u001b[0m \u001b[38;5;250m\u001b[39m\u001b[38;5;124;03m\"\"\"STEP 2: Configures, validates, and previews the plan for the GLOBAL tool.\u001b[39;00m\n\u001b[0;32m    705\u001b[0m \n\u001b[0;32m    706\u001b[0m \u001b[38;5;124;03mThis method combines configuration and preview into a single, robust step.\u001b[39;00m\n\u001b[1;32m   (...)\u001b[0m\n\u001b[0;32m    735\u001b[0m \u001b[38;5;124;03m    the FutureWeatherGenerator tool's options).\u001b[39;00m\n\u001b[0;32m    736\u001b[0m \u001b[38;5;124;03m\"\"\"\u001b[39;00m\n\u001b[0;32m    737\u001b[0m \u001b[38;5;66;03m# This method acts as a user-friendly, type-hinted interface.\u001b[39;00m\n\u001b[0;32m    738\u001b[0m \u001b[38;5;66;03m# It collects all the specific arguments and passes them down to the\u001b[39;00m\n\u001b[0;32m    739\u001b[0m \u001b[38;5;66;03m# generic base method for the actual logic.\u001b[39;00m\n\u001b[1;32m--> 740\u001b[0m \u001b[38;5;28;43msuper\u001b[39;49m\u001b[43m(\u001b[49m\u001b[43m)\u001b[49m\u001b[38;5;241;43m.\u001b[39;49m\u001b[43m_configure_and_preview_base\u001b[49m\u001b[43m(\u001b[49m\n\u001b[0;32m    741\u001b[0m \u001b[43m    \u001b[49m\u001b[38;5;66;43;03m# Pass the workflow-related arguments directly.\u001b[39;49;00m\n\u001b[0;32m    742\u001b[0m \u001b[43m    \u001b[49m\u001b[43mfinal_output_dir\u001b[49m\u001b[38;5;241;43m=\u001b[39;49m\u001b[43mfinal_output_dir\u001b[49m\u001b[43m,\u001b[49m\n\u001b[0;32m    743\u001b[0m \u001b[43m    \u001b[49m\u001b[43moutput_filename_pattern\u001b[49m\u001b[38;5;241;43m=\u001b[39;49m\u001b[43moutput_filename_pattern\u001b[49m\u001b[43m,\u001b[49m\n\u001b[0;32m    744\u001b[0m \u001b[43m    \u001b[49m\u001b[43mscenario_mapping\u001b[49m\u001b[38;5;241;43m=\u001b[39;49m\u001b[43mscenario_mapping\u001b[49m\u001b[43m,\u001b[49m\n\u001b[0;32m    745\u001b[0m \u001b[43m    \u001b[49m\u001b[43mfwg_jar_path\u001b[49m\u001b[38;5;241;43m=\u001b[39;49m\u001b[43mfwg_jar_path\u001b[49m\u001b[43m,\u001b[49m\n\u001b[0;32m    746\u001b[0m \u001b[43m    \u001b[49m\u001b[43mrun_incomplete_files\u001b[49m\u001b[38;5;241;43m=\u001b[39;49m\u001b[43mrun_incomplete_files\u001b[49m\u001b[43m,\u001b[49m\n\u001b[0;32m    747\u001b[0m \u001b[43m    \u001b[49m\u001b[43mdelete_temp_files\u001b[49m\u001b[38;5;241;43m=\u001b[39;49m\u001b[43mdelete_temp_files\u001b[49m\u001b[43m,\u001b[49m\n\u001b[0;32m    748\u001b[0m \u001b[43m    \u001b[49m\u001b[43mtemp_base_dir\u001b[49m\u001b[38;5;241;43m=\u001b[39;49m\u001b[43mtemp_base_dir\u001b[49m\u001b[43m,\u001b[49m\n\u001b[0;32m    749\u001b[0m \u001b[43m    \u001b[49m\u001b[43mfwg_show_tool_output\u001b[49m\u001b[38;5;241;43m=\u001b[39;49m\u001b[43mfwg_show_tool_output\u001b[49m\u001b[43m,\u001b[49m\n\u001b[0;32m    750\u001b[0m \u001b[43m    \u001b[49m\u001b[43mfwg_params\u001b[49m\u001b[38;5;241;43m=\u001b[39;49m\u001b[43mfwg_params\u001b[49m\u001b[43m,\u001b[49m\n\u001b[0;32m    751\u001b[0m \n\u001b[0;32m    752\u001b[0m \u001b[43m    \u001b[49m\u001b[38;5;66;43;03m# Pass the specific model argument ('fwg_gcms') as the generic 'fwg_models'\u001b[39;49;00m\n\u001b[0;32m    753\u001b[0m \u001b[43m    \u001b[49m\u001b[38;5;66;43;03m# that the base method expects.\u001b[39;49;00m\n\u001b[0;32m    754\u001b[0m \u001b[43m    \u001b[49m\u001b[43mfwg_models\u001b[49m\u001b[38;5;241;43m=\u001b[39;49m\u001b[43mfwg_gcms\u001b[49m\u001b[43m,\u001b[49m\n\u001b[0;32m    755\u001b[0m \n\u001b[0;32m    756\u001b[0m \u001b[43m    \u001b[49m\u001b[38;5;66;43;03m# Pass all other common FWG parameters straight through.\u001b[39;49;00m\n\u001b[0;32m    757\u001b[0m \u001b[43m    \u001b[49m\u001b[43mfwg_create_ensemble\u001b[49m\u001b[38;5;241;43m=\u001b[39;49m\u001b[43mfwg_create_ensemble\u001b[49m\u001b[43m,\u001b[49m\n\u001b[0;32m    758\u001b[0m \u001b[43m    \u001b[49m\u001b[43mfwg_winter_sd_shift\u001b[49m\u001b[38;5;241;43m=\u001b[39;49m\u001b[43mfwg_winter_sd_shift\u001b[49m\u001b[43m,\u001b[49m\n\u001b[0;32m    759\u001b[0m \u001b[43m    \u001b[49m\u001b[43mfwg_summer_sd_shift\u001b[49m\u001b[38;5;241;43m=\u001b[39;49m\u001b[43mfwg_summer_sd_shift\u001b[49m\u001b[43m,\u001b[49m\n\u001b[0;32m    760\u001b[0m \u001b[43m    \u001b[49m\u001b[43mfwg_month_transition_hours\u001b[49m\u001b[38;5;241;43m=\u001b[39;49m\u001b[43mfwg_month_transition_hours\u001b[49m\u001b[43m,\u001b[49m\n\u001b[0;32m    761\u001b[0m \u001b[43m    \u001b[49m\u001b[43mfwg_use_multithreading\u001b[49m\u001b[38;5;241;43m=\u001b[39;49m\u001b[43mfwg_use_multithreading\u001b[49m\u001b[43m,\u001b[49m\n\u001b[0;32m    762\u001b[0m \u001b[43m    \u001b[49m\u001b[43mfwg_interpolation_method_id\u001b[49m\u001b[38;5;241;43m=\u001b[39;49m\u001b[43mfwg_interpolation_method_id\u001b[49m\u001b[43m,\u001b[49m\n\u001b[0;32m    763\u001b[0m \u001b[43m    \u001b[49m\u001b[43mfwg_limit_variables\u001b[49m\u001b[38;5;241;43m=\u001b[39;49m\u001b[43mfwg_limit_variables\u001b[49m\u001b[43m,\u001b[49m\n\u001b[0;32m    764\u001b[0m \u001b[43m    \u001b[49m\u001b[43mfwg_solar_hour_adjustment\u001b[49m\u001b[38;5;241;43m=\u001b[39;49m\u001b[43mfwg_solar_hour_adjustment\u001b[49m\u001b[43m,\u001b[49m\n\u001b[0;32m    765\u001b[0m \u001b[43m    \u001b[49m\u001b[43mfwg_diffuse_irradiation_model\u001b[49m\u001b[38;5;241;43m=\u001b[39;49m\u001b[43mfwg_diffuse_irradiation_model\u001b[49m\u001b[43m,\u001b[49m\n\u001b[0;32m    766\u001b[0m \u001b[43m    \u001b[49m\u001b[43mfwg_add_uhi\u001b[49m\u001b[38;5;241;43m=\u001b[39;49m\u001b[43mfwg_add_uhi\u001b[49m\u001b[43m,\u001b[49m\n\u001b[0;32m    767\u001b[0m \u001b[43m    \u001b[49m\u001b[43mfwg_epw_original_lcz\u001b[49m\u001b[38;5;241;43m=\u001b[39;49m\u001b[43mfwg_epw_original_lcz\u001b[49m\u001b[43m,\u001b[49m\n\u001b[0;32m    768\u001b[0m \u001b[43m    \u001b[49m\u001b[43mfwg_target_uhi_lcz\u001b[49m\u001b[38;5;241;43m=\u001b[39;49m\u001b[43mfwg_target_uhi_lcz\u001b[49m\n\u001b[0;32m    769\u001b[0m \u001b[43m\u001b[49m\u001b[43m)\u001b[49m\n",
      "File \u001b[1;32mc:\\users\\danie\\appdata\\local\\programs\\python\\python39\\lib\\site-packages\\pyfwg\\workflow.py:320\u001b[0m, in \u001b[0;36m_MorphingWorkflowBase._configure_and_preview_base\u001b[1;34m(self, final_output_dir, output_filename_pattern, scenario_mapping, fwg_jar_path, run_incomplete_files, delete_temp_files, temp_base_dir, fwg_show_tool_output, fwg_params, fwg_models, fwg_create_ensemble, fwg_winter_sd_shift, fwg_summer_sd_shift, fwg_month_transition_hours, fwg_use_multithreading, fwg_interpolation_method_id, fwg_limit_variables, fwg_solar_hour_adjustment, fwg_diffuse_irradiation_model, fwg_add_uhi, fwg_epw_original_lcz, fwg_target_uhi_lcz)\u001b[0m\n\u001b[0;32m    318\u001b[0m \u001b[38;5;66;03m# Guard clause: Ensure that the mapping step has been completed.\u001b[39;00m\n\u001b[0;32m    319\u001b[0m \u001b[38;5;28;01mif\u001b[39;00m \u001b[38;5;129;01mnot\u001b[39;00m \u001b[38;5;28mself\u001b[39m\u001b[38;5;241m.\u001b[39mepw_categories \u001b[38;5;129;01mand\u001b[39;00m \u001b[38;5;129;01mnot\u001b[39;00m \u001b[38;5;28mself\u001b[39m\u001b[38;5;241m.\u001b[39mincomplete_epw_categories:\n\u001b[1;32m--> 320\u001b[0m     \u001b[38;5;28;01mraise\u001b[39;00m \u001b[38;5;167;01mRuntimeError\u001b[39;00m(\u001b[38;5;124m\"\u001b[39m\u001b[38;5;124mPlease run map_categories() first. No files were successfully mapped.\u001b[39m\u001b[38;5;124m\"\u001b[39m)\n\u001b[0;32m    322\u001b[0m logging\u001b[38;5;241m.\u001b[39minfo(\u001b[38;5;124m\"\u001b[39m\u001b[38;5;124m--- Step 2: Configuring and Previewing Morphing Plan ---\u001b[39m\u001b[38;5;124m\"\u001b[39m)\n\u001b[0;32m    324\u001b[0m \u001b[38;5;66;03m# --- 1. Build and Validate Configuration ---\u001b[39;00m\n\u001b[0;32m    325\u001b[0m \u001b[38;5;66;03m# Start with the base dictionary, or an empty one if not provided.\u001b[39;00m\n",
      "\u001b[1;31mRuntimeError\u001b[0m: Please run map_categories() first. No files were successfully mapped."
     ]
    }
   ],
   "source": [
    "# The validation of parameters is executed automatically inside the function.\n",
    "created_files_custom = morph_epw_global(\n",
    "    epw_paths=epw_file,\n",
    "    fwg_jar_path=jar_path,\n",
    "    output_dir='./custom_output_global',\n",
    "    fwg_show_tool_output=True,      # See the tool's progress in real-time\n",
    "    fwg_gcms=['CanESM5'],           # Use only one specific GCM\n",
    "    fwg_interpolation_method_id=2 # Use the \"nearest point\" method\n",
    ")\n",
    "\n",
    "print(\"\\nSuccessfully created files:\")\n",
    "for f in created_files_custom:\n",
    "    print(f)"
   ]
  },
  {
   "cell_type": "markdown",
   "metadata": {},
   "source": [
    "### Expected Output\n",
    "\n",
    "When you run the code above, you should see:\n",
    "1. A detailed printout of the command being executed for your EPW file.\n",
    "2. The real-time console output from the FutureWeatherGenerator tool (since `fwg_show_tool_output=True`).\n",
    "3. A final message listing all the `.epw` and `.stat` files that were successfully created and moved to the `./custom_output` directory."
   ]
  },
  {
   "cell_type": "markdown",
   "metadata": {},
   "source": [
    "## Using `morph_epw_europe`"
   ]
  },
  {
   "cell_type": "markdown",
   "metadata": {},
   "source": [
    "### Step 1: Imports and Setup\n",
    "\n",
    "First, we'll import the necessary function and set up our file paths. \n",
    "\n",
    "**Important:** You must change the `jar_path` variable to the correct location of the `FutureWeatherGenerator_Europe_v1.0.1.jar` file on your system. You must also ensure that the `epw_file` path is correct relative to where you are running this notebook."
   ]
  },
  {
   "cell_type": "code",
   "execution_count": null,
   "metadata": {},
   "outputs": [],
   "source": [
    "import os\n",
    "from pyfwg import morph_epw_europe\n",
    "\n",
    "# --- Configuration ---\n",
    "# Define the path to the EPW file to be processed.\n",
    "epw_file = 'epws/w_pattern/sevilla_uhi-type-1.epw'\n",
    "\n",
    "# !!! IMPORTANT: You MUST change this path to the correct location on your PC !!!\n",
    "jar_path = r\"D:\\OneDrive - Universidad de Cádiz (uca.es)\\Programas\\FutureWeatherGenerator_Europe_v1.0.1.jar\""
   ]
  },
  {
   "cell_type": "markdown",
   "metadata": {},
   "source": [
    "### Step 2: Run the Morphing Process\n",
    "\n",
    "Now, we can call the `morph_epw` function. We will override a few of the default parameters to demonstrate how to customize the process. To speed up the process, let's use just one GCM. If you don't know which are these, you can import the list containing the default models:"
   ]
  },
  {
   "cell_type": "code",
   "execution_count": null,
   "metadata": {},
   "outputs": [],
   "source": [
    "from pyfwg import DEFAULT_EUROPE_RCMS\n",
    "print(DEFAULT_EUROPE_RCMS)"
   ]
  },
  {
   "cell_type": "markdown",
   "metadata": {},
   "source": [
    "So let's use for instance \"CanESM5\":"
   ]
  },
  {
   "cell_type": "code",
   "execution_count": null,
   "metadata": {},
   "outputs": [],
   "source": [
    "# The validation of parameters is executed automatically inside the function.\n",
    "created_files_custom = morph_epw(\n",
    "    epw_paths=epw_file,\n",
    "    fwg_jar_path=jar_path,\n",
    "    output_dir='./custom_output',\n",
    "    fwg_show_tool_output=True,      # See the tool's progress in real-time\n",
    "    fwg_gcms=['CanESM5'],           # Use only one specific GCM\n",
    "    fwg_interpolation_method_id=2 # Use the \"nearest point\" method\n",
    ")\n",
    "\n",
    "print(\"\\nSuccessfully created files:\")\n",
    "for f in created_files_custom:\n",
    "    print(f)"
   ]
  },
  {
   "cell_type": "markdown",
   "metadata": {},
   "source": [
    "### Expected Output\n",
    "\n",
    "When you run the code above, you should see:\n",
    "1. A detailed printout of the command being executed for your EPW file.\n",
    "2. The real-time console output from the FutureWeatherGenerator tool (since `fwg_show_tool_output=True`).\n",
    "3. A final message listing all the `.epw` and `.stat` files that were successfully created and moved to the `./custom_output` directory."
   ]
  },
  {
   "cell_type": "code",
   "execution_count": null,
   "metadata": {},
   "outputs": [],
   "source": []
  },
  {
   "cell_type": "code",
   "execution_count": null,
   "metadata": {},
   "outputs": [],
   "source": []
  },
  {
   "cell_type": "code",
   "execution_count": null,
   "metadata": {},
   "outputs": [],
   "source": []
  },
  {
   "cell_type": "code",
   "execution_count": 2,
   "metadata": {},
   "outputs": [
    {
     "name": "stderr",
     "output_type": "stream",
     "text": [
      "\u001b[32m2025-09-22 21:09:27 - INFO - --- Starting Direct Global Morphing Process ---\u001b[0m\n",
      "\u001b[32m2025-09-22 21:09:27 - INFO - --- Step 1: Mapping categories from filenames ---\u001b[0m\n",
      "\u001b[32m2025-09-22 21:09:27 - INFO - Mapped 'sevilla_uhi-type-1.epw': {'basename': 'sevilla_uhi-type-1'}\u001b[0m\n",
      "\u001b[32m2025-09-22 21:09:27 - INFO - Category mapping complete.\u001b[0m\n",
      "\u001b[32m2025-09-22 21:09:27 - INFO - --- Step 2: Configuring and Previewing Morphing Plan ---\u001b[0m\n",
      "\u001b[32m2025-09-22 21:09:27 - INFO - Validating LCZ availability for sevilla_uhi-type-1.epw...\u001b[0m\n",
      "\u001b[32m2025-09-22 21:09:27 - INFO - Checking LCZ pair (Original: 2, Target: 3) availability for sevilla_uhi-type-1.epw...\u001b[0m\n",
      "\u001b[32m2025-09-22 21:09:27 - INFO - --- Applying UHI effect to sevilla_uhi-type-1.epw ---\u001b[0m\n",
      "\u001b[32m2025-09-22 21:09:27 - INFO - Executing command: java -cp \"D:\\OneDrive - Universidad de Cádiz (uca.es)\\Programas\\FutureWeatherGenerator_v3.0.1.jar\" futureweathergenerator.UHI_Morph D:\\Python\\pyfwg\\pyfwg\\tutorials\\sevilla_uhi-type-1.epw C:\\Users\\sanga\\AppData\\Local\\Temp\\tmpfnspx009/ true 2:3\u001b[0m\n"
     ]
    },
    {
     "name": "stdout",
     "output_type": "stream",
     "text": [
      "\n",
      "============================================================\n",
      "          MORPHING CONFIGURATION & PREVIEW\n",
      "============================================================\n",
      "  - FWG JAR Path: D:\\OneDrive - Universidad de Cádiz (uca.es)\\Programas\\FutureWeatherGenerator_v3.0.1.jar\n",
      "  - Final Output Directory: D:\\Python\\pyfwg\\pyfwg\\tutorials\\custom_output\n",
      "  - EPWs to be Morphed (1 files):\n",
      "    - sevilla_uhi-type-1.epw\n",
      "\n",
      "  For input file: sevilla_uhi-type-1.epw\n",
      "    -> Generated 'ssp126_2050.epw' will be moved to: D:\\Python\\pyfwg\\pyfwg\\tutorials\\custom_output\\ssp126_2050.epw\n",
      "    -> Generated 'ssp245_2050.epw' will be moved to: D:\\Python\\pyfwg\\pyfwg\\tutorials\\custom_output\\ssp245_2050.epw\n",
      "    -> Generated 'ssp370_2050.epw' will be moved to: D:\\Python\\pyfwg\\pyfwg\\tutorials\\custom_output\\ssp370_2050.epw\n",
      "    -> Generated 'ssp585_2050.epw' will be moved to: D:\\Python\\pyfwg\\pyfwg\\tutorials\\custom_output\\ssp585_2050.epw\n",
      "    -> Generated 'ssp126_2080.epw' will be moved to: D:\\Python\\pyfwg\\pyfwg\\tutorials\\custom_output\\ssp126_2080.epw\n",
      "    -> Generated 'ssp245_2080.epw' will be moved to: D:\\Python\\pyfwg\\pyfwg\\tutorials\\custom_output\\ssp245_2080.epw\n",
      "    -> Generated 'ssp370_2080.epw' will be moved to: D:\\Python\\pyfwg\\pyfwg\\tutorials\\custom_output\\ssp370_2080.epw\n",
      "    -> Generated 'ssp585_2080.epw' will be moved to: D:\\Python\\pyfwg\\pyfwg\\tutorials\\custom_output\\ssp585_2080.epw\n",
      "============================================================\n",
      "Configuration set. Call execute_morphing() to start the process.\n"
     ]
    },
    {
     "name": "stderr",
     "output_type": "stream",
     "text": [
      "\u001b[32m2025-09-22 21:09:31 - INFO - UHI effect applied successfully.\u001b[0m\n",
      "\u001b[32m2025-09-22 21:09:31 - INFO - LCZ pair (Original: 2, Target: 3) is available.\u001b[0m\n",
      "\u001b[32m2025-09-22 21:09:31 - INFO - Copied input file to temporary directory: ./morphing_temp_results\\sevilla_uhi-type-1\\sevilla_uhi-type-1.epw\u001b[0m\n"
     ]
    },
    {
     "name": "stdout",
     "output_type": "stream",
     "text": [
      "\n",
      "-------------------- Executing FWG for sevilla_uhi-type-1.epw --------------------\n",
      "  Full Command (for reference): java -cp \"D:\\OneDrive - Universidad de Cádiz (uca.es)\\Programas\\FutureWeatherGenerator_v3.0.1.jar\" futureweathergenerator.Morph D:\\Python\\pyfwg\\pyfwg\\tutorials\\sevilla_uhi-type-1.epw CanESM5 1 0.0:0.0 72 D:\\Python\\pyfwg\\pyfwg\\tutorials\\morphing_temp_results\\sevilla_uhi-type-1/ true 2 true 1 1 1:2:3\n"
     ]
    },
    {
     "name": "stderr",
     "output_type": "stream",
     "text": [
      "\u001b[32m2025-09-22 21:10:08 - INFO - Direct global morphing complete. 17 files created in D:\\Python\\pyfwg\\pyfwg\\tutorials\\custom_output\u001b[0m\n"
     ]
    }
   ],
   "source": [
    "from pyfwg import morph_epw_global\n",
    "\n",
    "jar_path = r\"D:\\OneDrive - Universidad de Cádiz (uca.es)\\Programas\\FutureWeatherGenerator_v3.0.1.jar\"\n",
    "epw_file = 'sevilla_uhi-type-1.epw'\n",
    "\n",
    "# La validación se ejecuta automáticamente.\n",
    "created_files_custom = morph_epw_global(\n",
    "    epw_paths=epw_file,\n",
    "    fwg_jar_path=jar_path,\n",
    "    output_dir='./custom_output',\n",
    "    fwg_show_tool_output=False,\n",
    "    delete_temp_files=False,\n",
    "    fwg_gcms=['CanESM5'], # Usar solo dos GCMs\n",
    "    fwg_interpolation_method_id=2,  # Usar el método \"nearest point\"\n",
    "    fwg_epw_original_lcz=2,\n",
    "    fwg_target_uhi_lcz=3,\n",
    ")\n",
    "\n",
    "# print(\"Successfully created files:\")\n",
    "# for f in created_files_custom:\n",
    "#     print(f)\n"
   ]
  },
  {
   "cell_type": "code",
   "execution_count": null,
   "metadata": {},
   "outputs": [],
   "source": []
  }
 ],
 "metadata": {
  "kernelspec": {
   "display_name": "Python 3 (ipykernel)",
   "language": "python",
   "name": "python3"
  },
  "language_info": {
   "codemirror_mode": {
    "name": "ipython",
    "version": 3
   },
   "file_extension": ".py",
   "mimetype": "text/x-python",
   "name": "python",
   "nbconvert_exporter": "python",
   "pygments_lexer": "ipython3",
   "version": "3.9.13"
  }
 },
 "nbformat": 4,
 "nbformat_minor": 4
}
