{
 "cells": [
  {
   "cell_type": "markdown",
   "metadata": {},
   "source": [
    "# Using `pyfwg` for Direct Morphing\n",
    "\n",
    "This notebook demonstrates the simplest and most direct way to use the `pyfwg` library: the high-level API functions.\n",
    "\n",
    "The library provides two main functions for this purpose:\n",
    "- `morph_epw_global()`: For use with the standard, global version of the FutureWeatherGenerator tool.\n",
    "- `morph_epw_europe()`: For use with the Europe-specific version of the tool.\n",
    "\n",
    "This notebook will focus on **`morph_epw_global`**. These functions are designed as one-shot tools that provide full access to all of the tool's parameters without requiring the user to manage the multi-step `MorphingWorkflow` class. They handle parameter validation, temporary file management, and final file placement in a single call."
   ]
  },
  {
   "cell_type": "markdown",
   "metadata": {},
   "source": [
    "## Understanding the `morph_epw` Parameters\n",
    "\n",
    "The functions are powerful because they expose all of the underlying tool's options. Here is a complete reference for all arguments.\n",
    "\n",
    "### Core Parameters\n",
    "\n",
    "*   `epw_paths` (`Union[str, List[str]]`): **Required.** The path to a single EPW file (as a string) or a list of paths to multiple EPW files.\n",
    "*   `fwg_jar_path` (`str`): **Required.** The absolute or relative path to the appropriate `.jar` file.\n",
    "\n",
    "### Workflow Control Parameters\n",
    "\n",
    "*   `output_dir` (`str`, default: `'./morphed_epws'`): The directory where the final morphed `.epw` and `.stat` files will be saved.\n",
    "*   `delete_temp_files` (`bool`, default: `True`): If `True`, the temporary folders are deleted after processing. Set to `False` for debugging.\n",
    "*   `fwg_show_tool_output` (`bool`, default: `False`): If `True`, prints the FWG tool's console output in real-time. Highly recommended for monitoring progress.\n",
    "\n",
    "### FutureWeatherGenerator Tool Parameters\n",
    "\n",
    "*   `fwg_gcms` (`Optional[List[str]]`, default: `None`): A list of GCMs to use. This is specific to the **global** tool (`morph_epw_global`).\n",
    "*   `fwg_rcm_pairs` (`Optional[List[str]]`, default: `None`): A list of GCM-RCM pairs to use. This is specific to the **europe** tool (`morph_epw_europe`).\n",
    "*   `fwg_create_ensemble` (`bool`, default: `True`): If `True`, creates an ensemble from the selected models.\n",
    "*   (All other `fwg_` parameters like `fwg_interpolation_method_id`, `fwg_add_uhi`, etc., are also available. Refer to the library's documentation for a full list.)"
   ]
  },
  {
   "cell_type": "markdown",
   "metadata": {},
   "source": [
    "## Step 1: Imports and Setup\n",
    "\n",
    "First, we'll import the necessary functions and set up our file paths. \n",
    "\n",
    "**Important:** You must change the `jar_path` variable to the correct location of the `FutureWeatherGenerator_v3.0.1.jar` file on your system. You must also ensure that the `epw_file` path is correct relative to where you are running this notebook."
   ]
  },
  {
   "cell_type": "code",
   "execution_count": 1,
   "metadata": {},
   "outputs": [],
   "source": [
    "import os\n",
    "from pyfwg import morph_epw_global, get_available_lczs, check_lcz_availability, DEFAULT_GLOBAL_GCMS\n",
    "\n",
    "# --- Configuration ---\n",
    "# Define the path to the EPW file to be processed.\n",
    "epw_file = 'epws/w_pattern/sevilla_uhi-type-1.epw'\n",
    "\n",
    "# !!! IMPORTANT: You MUST change this path to the correct location on your PC !!!\n",
    "jar_path = r\"D:\\OneDrive - Universidad de Cádiz (uca.es)\\Programas\\FutureWeatherGenerator_v3.0.1.jar\""
   ]
  },
  {
   "cell_type": "markdown",
   "metadata": {},
   "source": [
    "## Step 2: Pre-flight Checks (Recommended)\n",
    "\n",
    "Before running a long morphing process, it's a good practice to validate your parameters. `pyfwg` provides utility functions to help with this.\n",
    "\n",
    "### Check Available LCZs\n",
    "\n",
    "The `fwg_epw_original_lcz` and `fwg_target_uhi_lcz` parameters depend on which Local Climate Zones are available for a specific weather file location. We can find this out using `get_available_lczs`."
   ]
  },
  {
   "cell_type": "code",
   "execution_count": 2,
   "metadata": {},
   "outputs": [
    {
     "name": "stderr",
     "output_type": "stream",
     "text": [
      "\u001b[32m2025-09-22 11:19:39 - INFO - --- Fetching available LCZs for 1 EPW file(s) ---\u001b[0m\n",
      "\u001b[32m2025-09-22 11:19:39 - INFO - Checking LCZ pair (Original: 0, Target: 0) availability for sevilla_uhi-type-1.epw...\u001b[0m\n",
      "\u001b[32m2025-09-22 11:19:39 - INFO - --- Applying UHI effect to sevilla_uhi-type-1.epw ---\u001b[0m\n",
      "\u001b[32m2025-09-22 11:19:39 - INFO - Executing command: java -cp \"D:\\OneDrive - Universidad de Cádiz (uca.es)\\Programas\\FutureWeatherGenerator_v3.0.1.jar\" futureweathergenerator.UHI_Morph D:\\PythonProjects\\pyfwg\\pyfwg\\tutorials\\epws\\w_pattern\\sevilla_uhi-type-1.epw C:\\Users\\danie\\AppData\\Local\\Temp\\tmpxb3pamz9/ true 0:0\u001b[0m\n",
      "\u001b[32m2025-09-22 11:19:40 - INFO - Available LCZs for 'sevilla_uhi-type-1.epw': [2, 3, 6, 8, 9, 11, 12, 13, 14, 16]\u001b[0m\n"
     ]
    },
    {
     "name": "stdout",
     "output_type": "stream",
     "text": [
      "\n",
      "Available LCZs for: sevilla_uhi-type-1.epw\n",
      "  [2, 3, 6, 8, 9, 11, 12, 13, 14, 16]\n"
     ]
    }
   ],
   "source": [
    "available_zones = get_available_lczs(\n",
    "    epw_paths=epw_file,\n",
    "    fwg_jar_path=jar_path,\n",
    "    # In java_class_path_prefix, use 'futureweathergenerator' for the global scope FWG tool, otherwise 'futureweathergenerator_europe'\n",
    "    java_class_path_prefix='futureweathergenerator',\n",
    "    show_tool_output=False,\n",
    ")\n",
    "\n",
    "# Print the results in a user-friendly format\n",
    "for filename, lcz_list in available_zones.items():\n",
    "    print(f\"\\nAvailable LCZs for: {filename}\")\n",
    "    if lcz_list:\n",
    "        print(f\"  {lcz_list}\")\n",
    "    else:\n",
    "        print(\"  Could not be determined.\")"
   ]
  },
  {
   "cell_type": "markdown",
   "metadata": {},
   "source": [
    "## Step 3: Run the Morphing Process\n",
    "\n",
    "Now that we have validated our parameters, we can confidently call `morph_epw_global`. We will use the valid LCZ values we identified and a specific GCM for speed."
   ]
  },
  {
   "cell_type": "code",
   "execution_count": 3,
   "metadata": {},
   "outputs": [
    {
     "name": "stderr",
     "output_type": "stream",
     "text": [
      "\u001b[32m2025-09-22 11:20:26 - INFO - --- Starting Direct Global Morphing Process ---\u001b[0m\n",
      "\u001b[32m2025-09-22 11:20:26 - INFO - --- Step 1: Mapping categories from filenames ---\u001b[0m\n",
      "\u001b[33m2025-09-22 11:20:26 - WARNING - Could not map any categories for 'epws/w_pattern/sevilla_uhi-type-1.epw'. Skipping.\u001b[0m\n",
      "\u001b[32m2025-09-22 11:20:26 - INFO - Category mapping complete.\u001b[0m\n"
     ]
    },
    {
     "ename": "AttributeError",
     "evalue": "'MorphingWorkflowGlobal' object has no attribute 'set_morphing_config'",
     "output_type": "error",
     "traceback": [
      "\u001b[1;31m---------------------------------------------------------------------------\u001b[0m",
      "\u001b[1;31mAttributeError\u001b[0m                            Traceback (most recent call last)",
      "Cell \u001b[1;32mIn[3], line 1\u001b[0m\n\u001b[1;32m----> 1\u001b[0m created_files \u001b[38;5;241m=\u001b[39m \u001b[43mmorph_epw_global\u001b[49m\u001b[43m(\u001b[49m\n\u001b[0;32m      2\u001b[0m \u001b[43m    \u001b[49m\u001b[43mepw_paths\u001b[49m\u001b[38;5;241;43m=\u001b[39;49m\u001b[43mepw_file\u001b[49m\u001b[43m,\u001b[49m\n\u001b[0;32m      3\u001b[0m \u001b[43m    \u001b[49m\u001b[43mfwg_jar_path\u001b[49m\u001b[38;5;241;43m=\u001b[39;49m\u001b[43mjar_path\u001b[49m\u001b[43m,\u001b[49m\n\u001b[0;32m      4\u001b[0m \u001b[43m    \u001b[49m\u001b[43moutput_dir\u001b[49m\u001b[38;5;241;43m=\u001b[39;49m\u001b[38;5;124;43m'\u001b[39;49m\u001b[38;5;124;43m./custom_output\u001b[39;49m\u001b[38;5;124;43m'\u001b[39;49m\u001b[43m,\u001b[49m\n\u001b[0;32m      5\u001b[0m \u001b[43m    \u001b[49m\u001b[43mfwg_show_tool_output\u001b[49m\u001b[38;5;241;43m=\u001b[39;49m\u001b[38;5;28;43;01mTrue\u001b[39;49;00m\u001b[43m,\u001b[49m\u001b[43m      \u001b[49m\u001b[38;5;66;43;03m# See the tool's progress in real-time\u001b[39;49;00m\n\u001b[0;32m      6\u001b[0m \u001b[43m    \u001b[49m\u001b[43mfwg_gcms\u001b[49m\u001b[38;5;241;43m=\u001b[39;49m\u001b[43m[\u001b[49m\u001b[38;5;124;43m'\u001b[39;49m\u001b[38;5;124;43mCanESM5\u001b[39;49m\u001b[38;5;124;43m'\u001b[39;49m\u001b[43m]\u001b[49m\u001b[43m,\u001b[49m\u001b[43m           \u001b[49m\u001b[38;5;66;43;03m# Use only one specific GCM for speed\u001b[39;49;00m\n\u001b[0;32m      7\u001b[0m \u001b[43m    \u001b[49m\u001b[43mfwg_interpolation_method_id\u001b[49m\u001b[38;5;241;43m=\u001b[39;49m\u001b[38;5;241;43m2\u001b[39;49m\u001b[43m,\u001b[49m\u001b[43m  \u001b[49m\u001b[38;5;66;43;03m# Use the \"nearest point\" method\u001b[39;49;00m\n\u001b[0;32m      8\u001b[0m \u001b[43m    \u001b[49m\u001b[43mfwg_epw_original_lcz\u001b[49m\u001b[38;5;241;43m=\u001b[39;49m\u001b[38;5;241;43m2\u001b[39;49m\u001b[43m,\u001b[49m\u001b[43m         \u001b[49m\u001b[38;5;66;43;03m# Use a validated LCZ from the check above\u001b[39;49;00m\n\u001b[0;32m      9\u001b[0m \u001b[43m    \u001b[49m\u001b[43mfwg_target_uhi_lcz\u001b[49m\u001b[38;5;241;43m=\u001b[39;49m\u001b[38;5;241;43m3\u001b[39;49m\u001b[43m          \u001b[49m\u001b[38;5;66;43;03m# Use a validated LCZ from the check above\u001b[39;49;00m\n\u001b[0;32m     10\u001b[0m \u001b[43m)\u001b[49m\n\u001b[0;32m     12\u001b[0m \u001b[38;5;28mprint\u001b[39m(\u001b[38;5;124m\"\u001b[39m\u001b[38;5;130;01m\\n\u001b[39;00m\u001b[38;5;124mSuccessfully created files:\u001b[39m\u001b[38;5;124m\"\u001b[39m)\n\u001b[0;32m     13\u001b[0m \u001b[38;5;28;01mfor\u001b[39;00m f \u001b[38;5;129;01min\u001b[39;00m created_files:\n",
      "File \u001b[1;32mc:\\users\\danie\\appdata\\local\\programs\\python\\python39\\lib\\site-packages\\pyfwg\\api.py:102\u001b[0m, in \u001b[0;36mmorph_epw_global\u001b[1;34m(epw_paths, fwg_jar_path, output_dir, delete_temp_files, temp_base_dir, fwg_show_tool_output, fwg_params, fwg_gcms, fwg_create_ensemble, fwg_winter_sd_shift, fwg_summer_sd_shift, fwg_month_transition_hours, fwg_use_multithreading, fwg_interpolation_method_id, fwg_limit_variables, fwg_solar_hour_adjustment, fwg_diffuse_irradiation_model, fwg_add_uhi, fwg_epw_original_lcz, fwg_target_uhi_lcz)\u001b[0m\n\u001b[0;32m     95\u001b[0m workflow\u001b[38;5;241m.\u001b[39mmap_categories(\n\u001b[0;32m     96\u001b[0m     epw_files\u001b[38;5;241m=\u001b[39mepw_files,\n\u001b[0;32m     97\u001b[0m     keyword_mapping\u001b[38;5;241m=\u001b[39m{\u001b[38;5;124m'\u001b[39m\u001b[38;5;124mbasename\u001b[39m\u001b[38;5;124m'\u001b[39m: {os\u001b[38;5;241m.\u001b[39mpath\u001b[38;5;241m.\u001b[39msplitext(os\u001b[38;5;241m.\u001b[39mpath\u001b[38;5;241m.\u001b[39mbasename(p))[\u001b[38;5;241m0\u001b[39m]: p \u001b[38;5;28;01mfor\u001b[39;00m p \u001b[38;5;129;01min\u001b[39;00m epw_files}}\n\u001b[0;32m     98\u001b[0m )\n\u001b[0;32m    100\u001b[0m \u001b[38;5;66;03m# Reuse the class's set_morphing_config method to validate all parameters\u001b[39;00m\n\u001b[0;32m    101\u001b[0m \u001b[38;5;66;03m# and set up the internal state of the workflow instance.\u001b[39;00m\n\u001b[1;32m--> 102\u001b[0m \u001b[43mworkflow\u001b[49m\u001b[38;5;241;43m.\u001b[39;49m\u001b[43mset_morphing_config\u001b[49m(\n\u001b[0;32m    103\u001b[0m     fwg_jar_path\u001b[38;5;241m=\u001b[39mfwg_jar_path,\n\u001b[0;32m    104\u001b[0m     run_incomplete_files\u001b[38;5;241m=\u001b[39m\u001b[38;5;28;01mTrue\u001b[39;00m,  \u001b[38;5;66;03m# In the simple API, we always attempt to run all provided files.\u001b[39;00m\n\u001b[0;32m    105\u001b[0m     delete_temp_files\u001b[38;5;241m=\u001b[39mdelete_temp_files,\n\u001b[0;32m    106\u001b[0m     temp_base_dir\u001b[38;5;241m=\u001b[39mtemp_base_dir,\n\u001b[0;32m    107\u001b[0m     fwg_show_tool_output\u001b[38;5;241m=\u001b[39mfwg_show_tool_output,\n\u001b[0;32m    108\u001b[0m     fwg_params\u001b[38;5;241m=\u001b[39mfwg_params,\n\u001b[0;32m    109\u001b[0m     fwg_gcms\u001b[38;5;241m=\u001b[39mfwg_gcms,\n\u001b[0;32m    110\u001b[0m     fwg_create_ensemble\u001b[38;5;241m=\u001b[39mfwg_create_ensemble,\n\u001b[0;32m    111\u001b[0m     fwg_winter_sd_shift\u001b[38;5;241m=\u001b[39mfwg_winter_sd_shift,\n\u001b[0;32m    112\u001b[0m     fwg_summer_sd_shift\u001b[38;5;241m=\u001b[39mfwg_summer_sd_shift,\n\u001b[0;32m    113\u001b[0m     fwg_month_transition_hours\u001b[38;5;241m=\u001b[39mfwg_month_transition_hours,\n\u001b[0;32m    114\u001b[0m     fwg_use_multithreading\u001b[38;5;241m=\u001b[39mfwg_use_multithreading,\n\u001b[0;32m    115\u001b[0m     fwg_interpolation_method_id\u001b[38;5;241m=\u001b[39mfwg_interpolation_method_id,\n\u001b[0;32m    116\u001b[0m     fwg_limit_variables\u001b[38;5;241m=\u001b[39mfwg_limit_variables,\n\u001b[0;32m    117\u001b[0m     fwg_solar_hour_adjustment\u001b[38;5;241m=\u001b[39mfwg_solar_hour_adjustment,\n\u001b[0;32m    118\u001b[0m     fwg_diffuse_irradiation_model\u001b[38;5;241m=\u001b[39mfwg_diffuse_irradiation_model,\n\u001b[0;32m    119\u001b[0m     fwg_add_uhi\u001b[38;5;241m=\u001b[39mfwg_add_uhi,\n\u001b[0;32m    120\u001b[0m     fwg_epw_original_lcz\u001b[38;5;241m=\u001b[39mfwg_epw_original_lcz,\n\u001b[0;32m    121\u001b[0m     fwg_target_uhi_lcz\u001b[38;5;241m=\u001b[39mfwg_target_uhi_lcz\n\u001b[0;32m    122\u001b[0m )\n\u001b[0;32m    124\u001b[0m \u001b[38;5;66;03m# Block execution if the configuration was found to be invalid.\u001b[39;00m\n\u001b[0;32m    125\u001b[0m \u001b[38;5;28;01mif\u001b[39;00m \u001b[38;5;129;01mnot\u001b[39;00m workflow\u001b[38;5;241m.\u001b[39mis_config_valid:\n",
      "\u001b[1;31mAttributeError\u001b[0m: 'MorphingWorkflowGlobal' object has no attribute 'set_morphing_config'"
     ]
    }
   ],
   "source": [
    "created_files = morph_epw_global(\n",
    "    epw_paths=epw_file,\n",
    "    fwg_jar_path=jar_path,\n",
    "    output_dir='./custom_output',\n",
    "    fwg_show_tool_output=True,      # See the tool's progress in real-time\n",
    "    fwg_gcms=['CanESM5'],           # Use only one specific GCM for speed\n",
    "    fwg_interpolation_method_id=2,  # Use the \"nearest point\" method\n",
    "    fwg_epw_original_lcz=2,         # Use a validated LCZ from the check above\n",
    "    fwg_target_uhi_lcz=3          # Use a validated LCZ from the check above\n",
    ")\n",
    "\n",
    "print(\"\\nSuccessfully created files:\")\n",
    "for f in created_files:\n",
    "    print(f)\n"
   ]
  },
  {
   "cell_type": "markdown",
   "metadata": {},
   "source": [
    "## Next Steps\n",
    "\n",
    "When you need to run multiple morphing configurations or require complex, custom renaming of the output files, the `MorphingWorkflowGlobal` class is the right tool. See the `advanced_workflow_example.ipynb` notebook for a complete guide."
   ]
  }
 ],
 "metadata": {
  "kernelspec": {
   "display_name": "Python 3 (ipykernel)",
   "language": "python",
   "name": "python3"
  },
  "language_info": {
   "codemirror_mode": {
    "name": "ipython",
    "version": 3
   },
   "file_extension": ".py",
   "mimetype": "text/x-python",
   "name": "python",
   "nbconvert_exporter": "python",
   "pygments_lexer": "ipython3",
   "version": "3.9.4"
  }
 },
 "nbformat": 4,
 "nbformat_minor": 4
}
